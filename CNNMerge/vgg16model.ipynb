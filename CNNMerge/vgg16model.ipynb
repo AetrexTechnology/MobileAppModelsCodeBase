{
 "cells": [
  {
   "cell_type": "code",
   "execution_count": 1,
   "metadata": {},
   "outputs": [],
   "source": [
    "import os\n",
    "import os.path\n",
    "import glob\n",
    "import numpy as np\n",
    "import pandas as pd\n",
    "import cv2\n",
    "import seaborn as sns\n",
    "import random\n",
    "import matplotlib.pyplot as plt\n",
    "import json\n",
    "from tensorflow.keras.layers import Flatten, Input, Dense, BatchNormalization, Conv2D, MaxPool2D, GlobalMaxPool2D, \\\n",
    "    GlobalAveragePooling2D, Dropout, Add\n",
    "from tensorflow.keras.optimizers import SGD\n",
    "from tensorflow.keras.models import Model\n",
    "from tensorflow.keras.applications.vgg16 import VGG16\n",
    "from sklearn.model_selection import train_test_split\n",
    "from tensorflow.keras.models import Model, Sequential\n",
    "from tensorflow import keras"
   ]
  },
  {
   "cell_type": "code",
   "execution_count": 2,
   "metadata": {},
   "outputs": [
    {
     "name": "stdout",
     "output_type": "stream",
     "text": [
      "/Users/vaneesh_k/PycharmProjects/Albie_ML/regression_modeldata1/sharma/\n",
      "/Users/vaneesh_k/PycharmProjects/Albie_ML/regression_modeldata1/alex/\n",
      "/Users/vaneesh_k/PycharmProjects/Albie_ML/regression_modeldata1/senthil/\n",
      "/Users/vaneesh_k/PycharmProjects/Albie_ML/regression_modeldata1/vaneesh/\n",
      "(123, 1792, 828, 3)\n",
      "(123, 60)\n"
     ]
    }
   ],
   "source": [
    "directory = '/Users/vaneesh_k/PycharmProjects/Albie_ML/regression_modeldata1'\n",
    "\n",
    "with open('/Users/vaneesh_k/PycharmProjects/Albie_ML/groundtruth.json') as json_file:\n",
    "    gtdata = json.load(json_file)\n",
    "subdirs = os.listdir(directory)\n",
    "\n",
    "finalX_img = []\n",
    "finalX_num = []\n",
    "finalyLeft = []\n",
    "finalyRight = []\n",
    "\n",
    "for i in range(len(subdirs)):\n",
    "    dir2pull = directory + '/' + subdirs[i] + '/'\n",
    "    print(dir2pull)\n",
    "\n",
    "    lefty = gtdata[subdirs[i]]['leftlength']\n",
    "    righty = gtdata[subdirs[i]]['rightlength']\n",
    "\n",
    "    for file in glob.glob(dir2pull + '*.csv'):\n",
    "        data2read = file.replace(\"\\\\\", '/')\n",
    "        # print(data2read)\n",
    "        # print(data2read)\n",
    "        singledata = pd.read_csv(data2read, header=None)\n",
    "        singledata = np.array(singledata)\n",
    "\n",
    "        dataarray = []\n",
    "\n",
    "        for j in range(singledata.shape[1]):\n",
    "            if isinstance(singledata[0, j], str):\n",
    "                if singledata[0, j][0:2] == 'SI' or singledata[0, j][0:2] == ' S':\n",
    "                    datapoint = singledata[0, j].split('(')[1]\n",
    "                elif singledata[0, j][0:2] == 'L ' or singledata[0, j][0:2] == 'R ':\n",
    "                    datapoint = singledata[0, j][2:]\n",
    "                else:\n",
    "                    datapoint = singledata[0, j].split(')')[0]\n",
    "                datapoint = float(datapoint)\n",
    "            else:\n",
    "                datapoint = singledata[0, j]\n",
    "            dataarray.append(datapoint)\n",
    "        procdata = np.array(dataarray)\n",
    "        # print(procdata.shape)\n",
    "\n",
    "        if procdata.shape[0] != 60:\n",
    "            continue\n",
    "\n",
    "        finalX_num.append(procdata)\n",
    "        finalyLeft.append(lefty + random.uniform(-0.5, 0.5))\n",
    "        finalyRight.append(righty + random.uniform(-0.5, 0.5))\n",
    "\n",
    "        imgpath = data2read.split('.cs')[0]\n",
    "\n",
    "        if os.path.isfile(imgpath):\n",
    "            image = cv2.imread(imgpath)\n",
    "        else:\n",
    "            image = cv2.imread(imgpath + '.jpg')\n",
    "\n",
    "        # print(image.shape)\n",
    "\n",
    "        finalX_img.append(image)\n",
    "\n",
    "# print(len(finalX))\n",
    "\n",
    "finalX_img = np.array(finalX_img)\n",
    "print(finalX_img.shape)\n",
    "\n",
    "finalX_num = np.array(finalX_num)\n",
    "print(finalX_num.shape)\n",
    "\n",
    "finalyLeft = np.array(finalyLeft)\n",
    "finalyRight = np.array(finalyRight)\n",
    "\n",
    "\n",
    "def shuffle_in_unison_four(a, b, c, d):\n",
    "    n_elem = a.shape[0]\n",
    "    indeces = np.random.choice(n_elem, size=n_elem, replace=False)\n",
    "    return a[indeces], b[indeces], c[indeces], d[indeces]\n",
    "\n",
    "\n",
    "# def createinputForModel():\n",
    "\n",
    "\n",
    "X_img, X_num, yL, yR = shuffle_in_unison_four(finalX_img, finalX_num, finalyLeft, finalyRight)"
   ]
  },
  {
   "cell_type": "code",
   "execution_count": 3,
   "metadata": {},
   "outputs": [],
   "source": [
    "X_img_train = X_img[:100]\n",
    "X_img_test = X_img[100:]\n",
    "X_num_train = X_num[:100]\n",
    "X_num_test = X_num[100:]\n",
    "yL_train = yL[:100]\n",
    "yL_test = yL[100:]\n",
    "yR_train = yR[:100]\n",
    "yR_test = yR[100:]"
   ]
  },
  {
   "cell_type": "code",
   "execution_count": 4,
   "metadata": {},
   "outputs": [
    {
     "data": {
      "text/plain": "(100, 60)"
     },
     "execution_count": 4,
     "metadata": {},
     "output_type": "execute_result"
    }
   ],
   "source": [
    "X_num_train.shape"
   ]
  },
  {
   "cell_type": "code",
   "execution_count": 5,
   "metadata": {},
   "outputs": [],
   "source": [
    "X_num_train = X_num_train.reshape(X_num_train.shape[0],X_num_train.shape[1],1)\n",
    "#X_train = X_train.reshape(X_train.shape[0], X_train.shape[1], X_train.shape[2], 1)\n",
    "X_num_test = X_num_test.reshape(X_num_test.shape[0],X_num_test.shape[1],1)"
   ]
  },
  {
   "cell_type": "code",
   "execution_count": 6,
   "metadata": {},
   "outputs": [
    {
     "name": "stdout",
     "output_type": "stream",
     "text": [
      "(100, 60, 1) (23, 60, 1)\n"
     ]
    }
   ],
   "source": [
    "print(X_num_train.shape, X_num_test.shape)\n"
   ]
  },
  {
   "cell_type": "code",
   "execution_count": 7,
   "outputs": [],
   "source": [
    "root_logdir = os.path.join(os.curdir, \"my_logs\")"
   ],
   "metadata": {
    "collapsed": false,
    "pycharm": {
     "name": "#%%\n"
    }
   }
  },
  {
   "cell_type": "code",
   "execution_count": 8,
   "outputs": [],
   "source": [
    "# Setting tensorflow graphs\n",
    "\n",
    "def get_run_logdir():\n",
    "    import time\n",
    "    run_id = time.strftime(\"run_%Y_%m_%d-%H_%M_%S\")\n",
    "    return os.path.join(root_logdir, run_id)\n",
    "\n",
    "run_logdir = get_run_logdir()\n",
    "run_logdir\n",
    "\n",
    "tensorboard_cb = keras.callbacks.TensorBoard(run_logdir)"
   ],
   "metadata": {
    "collapsed": false,
    "pycharm": {
     "name": "#%%\n"
    }
   }
  },
  {
   "cell_type": "code",
   "execution_count": 8,
   "outputs": [],
   "source": [],
   "metadata": {
    "collapsed": false,
    "pycharm": {
     "name": "#%%\n"
    }
   }
  },
  {
   "cell_type": "code",
   "execution_count": 9,
   "metadata": {},
   "outputs": [],
   "source": [
    "input1 = Input(shape=(None, None, 3))\n",
    "input2 = Input(shape=(None,1))"
   ]
  },
  {
   "cell_type": "code",
   "execution_count": 10,
   "metadata": {},
   "outputs": [
    {
     "data": {
      "text/plain": "TensorShape([None, None, None, 3])"
     },
     "execution_count": 10,
     "metadata": {},
     "output_type": "execute_result"
    }
   ],
   "source": [
    "input1.shape"
   ]
  },
  {
   "cell_type": "code",
   "execution_count": 11,
   "metadata": {},
   "outputs": [
    {
     "data": {
      "text/plain": "TensorShape([None, None, 1])"
     },
     "execution_count": 11,
     "metadata": {},
     "output_type": "execute_result"
    }
   ],
   "source": [
    "input2.shape"
   ]
  },
  {
   "cell_type": "code",
   "execution_count": 12,
   "metadata": {},
   "outputs": [
    {
     "name": "stdout",
     "output_type": "stream",
     "text": [
      "Model: \"model\"\n",
      "__________________________________________________________________________________________________\n",
      "Layer (type)                    Output Shape         Param #     Connected to                     \n",
      "==================================================================================================\n",
      "input_1 (InputLayer)            [(None, None, None,  0                                            \n",
      "__________________________________________________________________________________________________\n",
      "block1_conv1 (Conv2D)           (None, None, None, 6 1792        input_1[0][0]                    \n",
      "__________________________________________________________________________________________________\n",
      "block1_conv2 (Conv2D)           (None, None, None, 6 36928       block1_conv1[0][0]               \n",
      "__________________________________________________________________________________________________\n",
      "block1_pool (MaxPooling2D)      (None, None, None, 6 0           block1_conv2[0][0]               \n",
      "__________________________________________________________________________________________________\n",
      "block2_conv1 (Conv2D)           (None, None, None, 1 73856       block1_pool[0][0]                \n",
      "__________________________________________________________________________________________________\n",
      "block2_conv2 (Conv2D)           (None, None, None, 1 147584      block2_conv1[0][0]               \n",
      "__________________________________________________________________________________________________\n",
      "block2_pool (MaxPooling2D)      (None, None, None, 1 0           block2_conv2[0][0]               \n",
      "__________________________________________________________________________________________________\n",
      "block3_conv1 (Conv2D)           (None, None, None, 2 295168      block2_pool[0][0]                \n",
      "__________________________________________________________________________________________________\n",
      "block3_conv2 (Conv2D)           (None, None, None, 2 590080      block3_conv1[0][0]               \n",
      "__________________________________________________________________________________________________\n",
      "block3_conv3 (Conv2D)           (None, None, None, 2 590080      block3_conv2[0][0]               \n",
      "__________________________________________________________________________________________________\n",
      "block3_pool (MaxPooling2D)      (None, None, None, 2 0           block3_conv3[0][0]               \n",
      "__________________________________________________________________________________________________\n",
      "block4_conv1 (Conv2D)           (None, None, None, 5 1180160     block3_pool[0][0]                \n",
      "__________________________________________________________________________________________________\n",
      "block4_conv2 (Conv2D)           (None, None, None, 5 2359808     block4_conv1[0][0]               \n",
      "__________________________________________________________________________________________________\n",
      "block4_conv3 (Conv2D)           (None, None, None, 5 2359808     block4_conv2[0][0]               \n",
      "__________________________________________________________________________________________________\n",
      "block4_pool (MaxPooling2D)      (None, None, None, 5 0           block4_conv3[0][0]               \n",
      "__________________________________________________________________________________________________\n",
      "block5_conv1 (Conv2D)           (None, None, None, 5 2359808     block4_pool[0][0]                \n",
      "__________________________________________________________________________________________________\n",
      "block5_conv2 (Conv2D)           (None, None, None, 5 2359808     block5_conv1[0][0]               \n",
      "__________________________________________________________________________________________________\n",
      "block5_conv3 (Conv2D)           (None, None, None, 5 2359808     block5_conv2[0][0]               \n",
      "__________________________________________________________________________________________________\n",
      "block5_pool (MaxPooling2D)      (None, None, None, 5 0           block5_conv3[0][0]               \n",
      "__________________________________________________________________________________________________\n",
      "global_average_pooling2d (Globa (None, 512)          0           block5_pool[0][0]                \n",
      "__________________________________________________________________________________________________\n",
      "flatten (Flatten)               (None, 512)          0           global_average_pooling2d[0][0]   \n",
      "__________________________________________________________________________________________________\n",
      "input_2 (InputLayer)            [(None, None, 1)]    0                                            \n",
      "__________________________________________________________________________________________________\n",
      "add (Add)                       (None, None, 512)    0           flatten[0][0]                    \n",
      "                                                                 input_2[0][0]                    \n",
      "__________________________________________________________________________________________________\n",
      "dense (Dense)                   (None, None, 1024)   525312      add[0][0]                        \n",
      "__________________________________________________________________________________________________\n",
      "dense_3 (Dense)                 (None, None, 1024)   525312      add[0][0]                        \n",
      "__________________________________________________________________________________________________\n",
      "dense_1 (Dense)                 (None, None, 512)    524800      dense[0][0]                      \n",
      "__________________________________________________________________________________________________\n",
      "dense_4 (Dense)                 (None, None, 512)    524800      dense_3[0][0]                    \n",
      "__________________________________________________________________________________________________\n",
      "dense_2 (Dense)                 (None, None, 128)    65664       dense_1[0][0]                    \n",
      "__________________________________________________________________________________________________\n",
      "dense_5 (Dense)                 (None, None, 128)    65664       dense_4[0][0]                    \n",
      "__________________________________________________________________________________________________\n",
      "left_length (Dense)             (None, None, 1)      129         dense_2[0][0]                    \n",
      "__________________________________________________________________________________________________\n",
      "right_length (Dense)            (None, None, 1)      129         dense_5[0][0]                    \n",
      "==================================================================================================\n",
      "Total params: 16,946,498\n",
      "Trainable params: 2,231,810\n",
      "Non-trainable params: 14,714,688\n",
      "__________________________________________________________________________________________________\n"
     ]
    }
   ],
   "source": [
    "base_model = VGG16(include_top=False, input_tensor=input1)\n",
    "x = base_model.output\n",
    "x = GlobalAveragePooling2D()(x)\n",
    "x = Flatten()(x)\n",
    "\n",
    "merge = Add()([x, input2])\n",
    "\n",
    "\n",
    "left = Dense(units=1024, activation='relu')(merge)\n",
    "left = Dense(units=512, activation='relu')(left)\n",
    "left = Dense(units=128, activation='relu')(left)\n",
    "left_length = Dense(units=1, activation='linear', name='left_length')(left)\n",
    "\n",
    "right = Dense(units=1024, activation='relu')(merge)\n",
    "right = Dense(units=512, activation='relu')(right)\n",
    "right = Dense(units=128, activation='relu')(right)\n",
    "\n",
    "right_length = Dense(units=1, activation='linear', name='right_length')(right)\n",
    "\n",
    "model = Model(inputs=[input1, input2], outputs=[left_length, right_length])\n",
    "for layer in base_model.layers:\n",
    "    layer.trainable = False\n",
    "\n",
    "model.summary()\n"
   ]
  },
  {
   "cell_type": "code",
   "execution_count": null,
   "metadata": {
    "pycharm": {
     "is_executing": true
    }
   },
   "outputs": [
    {
     "name": "stdout",
     "output_type": "stream",
     "text": [
      "Epoch 1/100\n"
     ]
    }
   ],
   "source": [
    "model.compile(loss={'left_length': 'mse', 'right_length': 'mse'}, optimizer='sgd',\n",
    "              metrics={'left_length': 'mse', 'right_length': 'mse'})\n",
    "\n",
    "# history = model.fit(X_train, y_train, batch_size = 50, validation_split = 0.2, epochs = 100, verbose = 0)\n",
    "\n",
    "model.fit([X_img_train, X_num_train], [yL_train, yR_train], batch_size=32, validation_split=0.2, epochs=100, verbose=1,callbacks=[tensorboard_cb])\n",
    "#model.fit([X_CNN1, X_CNN2], y)\n",
    "\n",
    "print('-----done--------')"
   ]
  },
  {
   "cell_type": "code",
   "execution_count": null,
   "metadata": {
    "pycharm": {
     "is_executing": true
    }
   },
   "outputs": [],
   "source": [
    "%load_ext tensorboard\n",
    "%tensorboard --logdir=./my_logs --port=6006"
   ]
  },
  {
   "cell_type": "code",
   "execution_count": null,
   "outputs": [],
   "source": [
    "\n"
   ],
   "metadata": {
    "collapsed": false,
    "pycharm": {
     "name": "#%%\n",
     "is_executing": true
    }
   }
  }
 ],
 "metadata": {
  "kernelspec": {
   "name": "pycharm-37187e8b",
   "language": "python",
   "display_name": "PyCharm (handson-ml2)"
  },
  "language_info": {
   "codemirror_mode": {
    "name": "ipython",
    "version": 3
   },
   "file_extension": ".py",
   "mimetype": "text/x-python",
   "name": "python",
   "nbconvert_exporter": "python",
   "pygments_lexer": "ipython3",
   "version": "3.6.9"
  }
 },
 "nbformat": 4,
 "nbformat_minor": 2
}