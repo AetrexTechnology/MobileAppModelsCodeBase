{
 "cells": [
  {
   "cell_type": "code",
   "execution_count": 107,
   "metadata": {},
   "outputs": [],
   "source": [
    "import os\n",
    "import os.path\n",
    "import glob\n",
    "import numpy as np\n",
    "import pandas as pd\n",
    "import cv2\n",
    "import seaborn as sns\n",
    "import random\n",
    "import matplotlib.pyplot as plt\n",
    "import json\n",
    "from tensorflow.keras.layers import Flatten, Input, Dense, BatchNormalization, Conv2D, MaxPool2D, GlobalMaxPool2D, \\\n",
    "    GlobalAveragePooling2D, Dropout, Add\n",
    "from tensorflow.keras.optimizers import SGD\n",
    "from tensorflow.keras.models import Model\n",
    "from tensorflow.keras.applications.vgg16 import VGG16\n",
    "from sklearn.model_selection import train_test_split\n",
    "from tensorflow.keras.models import Model, Sequential\n",
    "from keras import backend as K\n",
    "from tensorflow import keras\n",
    "import tensorflow as tf\n",
    "from tensorflow.keras.preprocessing.image import ImageDataGenerator"
   ]
  },
  {
   "cell_type": "code",
   "execution_count": 84,
   "metadata": {},
   "outputs": [
    {
     "name": "stdout",
     "output_type": "stream",
     "text": [
      "./regression_modeldata1/alex/\n",
      "./regression_modeldata1/senthil/\n",
      "./regression_modeldata1/sharma/\n",
      "./regression_modeldata1/user1/\n",
      "./regression_modeldata1/vaneesh/\n",
      "(126, 1792, 828, 3)\n",
      "(126, 60)\n"
     ]
    }
   ],
   "source": [
    "directory = './regression_modeldata1'\n",
    "\n",
    "with open('./groundtruth.json') as json_file:\n",
    "    gtdata = json.load(json_file)\n",
    "subdirs = os.listdir(directory)\n",
    "\n",
    "finalX_img = []\n",
    "finalX_num = []\n",
    "finalyLeft = []\n",
    "finalyRight = []\n",
    "\n",
    "for i in range(len(subdirs)):\n",
    "    dir2pull = directory + '/' + subdirs[i] + '/'\n",
    "    print(dir2pull)\n",
    "\n",
    "    lefty = gtdata[subdirs[i]]['leftlength']\n",
    "    righty = gtdata[subdirs[i]]['rightlength']\n",
    "\n",
    "    for file in glob.glob(dir2pull + '*.csv'):\n",
    "        data2read = file.replace(\"\\\\\", '/')\n",
    "        # print(data2read)\n",
    "        # print(data2read)\n",
    "        singledata = pd.read_csv(data2read, header=None)\n",
    "        singledata = np.array(singledata)\n",
    "\n",
    "        dataarray = []\n",
    "\n",
    "        for j in range(singledata.shape[1]):\n",
    "            if isinstance(singledata[0, j], str):\n",
    "                if singledata[0, j][0:2] == 'SI' or singledata[0, j][0:2] == ' S':\n",
    "                    datapoint = singledata[0, j].split('(')[1]\n",
    "                elif singledata[0, j][0:2] == 'L ' or singledata[0, j][0:2] == 'R ':\n",
    "                    datapoint = singledata[0, j][2:]\n",
    "                else:\n",
    "                    datapoint = singledata[0, j].split(')')[0]\n",
    "                datapoint = float(datapoint)\n",
    "            else:\n",
    "                datapoint = singledata[0, j]\n",
    "            dataarray.append(datapoint)\n",
    "        procdata = np.array(dataarray)\n",
    "        # print(procdata.shape)\n",
    "\n",
    "        if procdata.shape[0] != 60:\n",
    "            continue\n",
    "\n",
    "        finalX_num.append(procdata)\n",
    "        finalyLeft.append(lefty + random.uniform(-0.5, 0.5))\n",
    "        finalyRight.append(righty + random.uniform(-0.5, 0.5))\n",
    "\n",
    "        imgpath = data2read.split('.cs')[0]\n",
    "\n",
    "        if os.path.isfile(imgpath):\n",
    "            image = cv2.imread(imgpath)\n",
    "        else:\n",
    "            image = cv2.imread(imgpath + '.jpg')\n",
    "\n",
    "        # print(image.shape)\n",
    "\n",
    "        finalX_img.append(image)\n",
    "\n",
    "# print(len(finalX))\n",
    "\n",
    "finalX_img = np.array(finalX_img)\n",
    "print(finalX_img.shape)\n",
    "\n",
    "finalX_num = np.array(finalX_num)\n",
    "print(finalX_num.shape)\n",
    "\n",
    "finalyLeft = np.array(finalyLeft)\n",
    "finalyRight = np.array(finalyRight)\n",
    "\n",
    "\n",
    "def shuffle_in_unison_four(a, b, c, d):\n",
    "    n_elem = a.shape[0]\n",
    "    indeces = np.random.choice(n_elem, size=n_elem, replace=False)\n",
    "    return a[indeces], b[indeces], c[indeces], d[indeces]\n",
    "\n",
    "\n",
    "# def createinputForModel():\n",
    "\n",
    "\n",
    "X_img, X_num, yL, yR = shuffle_in_unison_four(finalX_img, finalX_num, finalyLeft, finalyRight)"
   ]
  },
  {
   "cell_type": "code",
   "execution_count": 85,
   "metadata": {},
   "outputs": [],
   "source": [
    "X_img_train = X_img[:100]\n",
    "X_img_test = X_img[100:]\n",
    "X_num_train = X_num[:100]\n",
    "X_num_test = X_num[100:]\n",
    "yL_train = yL[:100]\n",
    "yL_test = yL[100:]\n",
    "yR_train = yR[:100]\n",
    "yR_test = yR[100:]\n",
    "\n",
    "X_img_train = X_img\n",
    "X_num_train = X_num\n",
    "yL_train = yL\n",
    "yR_train = yR"
   ]
  },
  {
   "cell_type": "code",
   "execution_count": 86,
   "metadata": {},
   "outputs": [
    {
     "data": {
      "text/plain": [
       "(126, 60)"
      ]
     },
     "execution_count": 86,
     "metadata": {},
     "output_type": "execute_result"
    }
   ],
   "source": [
    "X_num_train.shape"
   ]
  },
  {
   "cell_type": "code",
   "execution_count": 87,
   "metadata": {},
   "outputs": [],
   "source": [
    "X_num_train = X_num_train.reshape(X_num_train.shape[0],X_num_train.shape[1],1)\n",
    "#X_train = X_train.reshape(X_train.shape[0], X_train.shape[1], X_train.shape[2], 1)\n",
    "X_num_test = X_num_test.reshape(X_num_test.shape[0],X_num_test.shape[1],1)"
   ]
  },
  {
   "cell_type": "code",
   "execution_count": 90,
   "metadata": {},
   "outputs": [
    {
     "name": "stdout",
     "output_type": "stream",
     "text": [
      "(126, 60, 1) (26, 60, 1)\n"
     ]
    }
   ],
   "source": [
    "print(X_num_train.shape, X_num_test.shape)\n"
   ]
  },
  {
   "cell_type": "code",
   "execution_count": 91,
   "metadata": {
    "pycharm": {
     "name": "#%%\n"
    }
   },
   "outputs": [],
   "source": [
    "root_logdir = os.path.join(os.curdir, \"my_logs\")"
   ]
  },
  {
   "cell_type": "code",
   "execution_count": 92,
   "metadata": {
    "pycharm": {
     "name": "#%%\n"
    }
   },
   "outputs": [],
   "source": [
    "# Setting tensorflow graphs\n",
    "\n",
    "def get_run_logdir():\n",
    "    import time\n",
    "    run_id = time.strftime(\"run_%Y_%m_%d-%H_%M_%S\")\n",
    "    return os.path.join(root_logdir, run_id)\n",
    "\n",
    "run_logdir = get_run_logdir()\n",
    "run_logdir\n",
    "\n",
    "tensorboard_cb = keras.callbacks.TensorBoard(run_logdir)"
   ]
  },
  {
   "cell_type": "code",
   "execution_count": null,
   "metadata": {
    "pycharm": {
     "name": "#%%\n"
    }
   },
   "outputs": [],
   "source": []
  },
  {
   "cell_type": "code",
   "execution_count": 93,
   "metadata": {},
   "outputs": [],
   "source": [
    "input1 = Input(shape=(None, None, 3))\n",
    "input2 = Input(shape=(None,1))"
   ]
  },
  {
   "cell_type": "code",
   "execution_count": 94,
   "metadata": {},
   "outputs": [
    {
     "data": {
      "text/plain": [
       "TensorShape([Dimension(None), Dimension(None), Dimension(None), Dimension(3)])"
      ]
     },
     "execution_count": 94,
     "metadata": {},
     "output_type": "execute_result"
    }
   ],
   "source": [
    "input1.shape"
   ]
  },
  {
   "cell_type": "code",
   "execution_count": 95,
   "metadata": {},
   "outputs": [
    {
     "data": {
      "text/plain": [
       "TensorShape([Dimension(None), Dimension(None), Dimension(1)])"
      ]
     },
     "execution_count": 95,
     "metadata": {},
     "output_type": "execute_result"
    }
   ],
   "source": [
    "input2.shape"
   ]
  },
  {
   "cell_type": "code",
   "execution_count": 96,
   "metadata": {},
   "outputs": [
    {
     "name": "stdout",
     "output_type": "stream",
     "text": [
      "__________________________________________________________________________________________________\n",
      "Layer (type)                    Output Shape         Param #     Connected to                     \n",
      "==================================================================================================\n",
      "input_14 (InputLayer)           (None, None, None, 3 0                                            \n",
      "__________________________________________________________________________________________________\n",
      "block1_conv1 (Conv2D)           (None, None, None, 6 1792        input_14[0][0]                   \n",
      "__________________________________________________________________________________________________\n",
      "block1_conv2 (Conv2D)           (None, None, None, 6 36928       block1_conv1[0][0]               \n",
      "__________________________________________________________________________________________________\n",
      "block1_pool (MaxPooling2D)      (None, None, None, 6 0           block1_conv2[0][0]               \n",
      "__________________________________________________________________________________________________\n",
      "block2_conv1 (Conv2D)           (None, None, None, 1 73856       block1_pool[0][0]                \n",
      "__________________________________________________________________________________________________\n",
      "block2_conv2 (Conv2D)           (None, None, None, 1 147584      block2_conv1[0][0]               \n",
      "__________________________________________________________________________________________________\n",
      "block2_pool (MaxPooling2D)      (None, None, None, 1 0           block2_conv2[0][0]               \n",
      "__________________________________________________________________________________________________\n",
      "block3_conv1 (Conv2D)           (None, None, None, 2 295168      block2_pool[0][0]                \n",
      "__________________________________________________________________________________________________\n",
      "block3_conv2 (Conv2D)           (None, None, None, 2 590080      block3_conv1[0][0]               \n",
      "__________________________________________________________________________________________________\n",
      "block3_conv3 (Conv2D)           (None, None, None, 2 590080      block3_conv2[0][0]               \n",
      "__________________________________________________________________________________________________\n",
      "block3_pool (MaxPooling2D)      (None, None, None, 2 0           block3_conv3[0][0]               \n",
      "__________________________________________________________________________________________________\n",
      "block4_conv1 (Conv2D)           (None, None, None, 5 1180160     block3_pool[0][0]                \n",
      "__________________________________________________________________________________________________\n",
      "block4_conv2 (Conv2D)           (None, None, None, 5 2359808     block4_conv1[0][0]               \n",
      "__________________________________________________________________________________________________\n",
      "block4_conv3 (Conv2D)           (None, None, None, 5 2359808     block4_conv2[0][0]               \n",
      "__________________________________________________________________________________________________\n",
      "block4_pool (MaxPooling2D)      (None, None, None, 5 0           block4_conv3[0][0]               \n",
      "__________________________________________________________________________________________________\n",
      "block5_conv1 (Conv2D)           (None, None, None, 5 2359808     block4_pool[0][0]                \n",
      "__________________________________________________________________________________________________\n",
      "block5_conv2 (Conv2D)           (None, None, None, 5 2359808     block5_conv1[0][0]               \n",
      "__________________________________________________________________________________________________\n",
      "block5_conv3 (Conv2D)           (None, None, None, 5 2359808     block5_conv2[0][0]               \n",
      "__________________________________________________________________________________________________\n",
      "block5_pool (MaxPooling2D)      (None, None, None, 5 0           block5_conv3[0][0]               \n",
      "__________________________________________________________________________________________________\n",
      "global_average_pooling2d_4 (Glo (None, 512)          0           block5_pool[0][0]                \n",
      "__________________________________________________________________________________________________\n",
      "flatten_4 (Flatten)             (None, 512)          0           global_average_pooling2d_4[0][0] \n",
      "__________________________________________________________________________________________________\n",
      "input_15 (InputLayer)           (None, None, 1)      0                                            \n",
      "__________________________________________________________________________________________________\n",
      "add_4 (Add)                     (None, None, 512)    0           flatten_4[0][0]                  \n",
      "                                                                 input_15[0][0]                   \n",
      "__________________________________________________________________________________________________\n",
      "dense_24 (Dense)                (None, None, 1024)   525312      add_4[0][0]                      \n",
      "__________________________________________________________________________________________________\n",
      "dense_27 (Dense)                (None, None, 1024)   525312      add_4[0][0]                      \n",
      "__________________________________________________________________________________________________\n",
      "dense_25 (Dense)                (None, None, 512)    524800      dense_24[0][0]                   \n",
      "__________________________________________________________________________________________________\n",
      "dense_28 (Dense)                (None, None, 512)    524800      dense_27[0][0]                   \n",
      "__________________________________________________________________________________________________\n",
      "dense_26 (Dense)                (None, None, 128)    65664       dense_25[0][0]                   \n",
      "__________________________________________________________________________________________________\n",
      "dense_29 (Dense)                (None, None, 128)    65664       dense_28[0][0]                   \n",
      "__________________________________________________________________________________________________\n",
      "left_length (Dense)             (None, None, 1)      129         dense_26[0][0]                   \n",
      "__________________________________________________________________________________________________\n",
      "right_length (Dense)            (None, None, 1)      129         dense_29[0][0]                   \n",
      "==================================================================================================\n",
      "Total params: 16,946,498\n",
      "Trainable params: 2,231,810\n",
      "Non-trainable params: 14,714,688\n",
      "__________________________________________________________________________________________________\n"
     ]
    }
   ],
   "source": [
    "base_model = VGG16(include_top=False, input_tensor=input1)\n",
    "x = base_model.output\n",
    "x = GlobalAveragePooling2D()(x)\n",
    "x = Flatten()(x)\n",
    "\n",
    "merge = Add()([x, input2])\n",
    "\n",
    "\n",
    "left = Dense(units=1024, activation='relu')(merge)\n",
    "left = Dense(units=512, activation='relu')(left)\n",
    "left = Dense(units=128, activation='relu')(left)\n",
    "\n",
    "left_length = Dense(units=1, activation='linear', name='left_length')(left)\n",
    "\n",
    "right = Dense(units=1024, activation='relu')(merge)\n",
    "right = Dense(units=512, activation='relu')(right)\n",
    "right = Dense(units=128, activation='relu')(right)\n",
    "\n",
    "right_length = Dense(units=1, activation='linear', name='right_length')(right)\n",
    "\n",
    "model = Model(inputs=[input1, input2], outputs=[left_length, right_length])\n",
    "for layer in base_model.layers:\n",
    "    layer.trainable = False\n",
    "\n",
    "model.summary()\n"
   ]
  },
  {
   "cell_type": "code",
   "execution_count": 98,
   "metadata": {},
   "outputs": [
    {
     "name": "stdout",
     "output_type": "stream",
     "text": [
      "(126, 1792, 828, 3)\n",
      "(126, 1, 1)\n",
      "(126, 1792, 828, 3)\n",
      "(126, 60, 1)\n",
      "(126, 1, 1)\n",
      "(126, 1, 1)\n"
     ]
    }
   ],
   "source": [
    "\n",
    "print(X_img_train.shape)\n",
    "\n",
    "# image_train = X_img_train / 255\n",
    "\n",
    "yL_train = np.expand_dims(yL_train,axis=1)\n",
    "yR_train = np.expand_dims(yR_train,axis=1)\n",
    "\n",
    "yL_train = np.expand_dims(yL_train,axis=2)\n",
    "yR_train = np.expand_dims(yR_train,axis=2)\n",
    "\n",
    "\n",
    "print(yL_train.shape)\n",
    "\n",
    "print(X_img_train.shape)\n",
    "print(X_num_train.shape)\n",
    "print(yL_train.shape)\n",
    "print(yR_train.shape)\n"
   ]
  },
  {
   "cell_type": "code",
   "execution_count": 106,
   "metadata": {
    "pycharm": {
     "is_executing": true
    }
   },
   "outputs": [
    {
     "name": "stdout",
     "output_type": "stream",
     "text": [
      "Train on 113 samples, validate on 13 samples\n",
      "Epoch 1/200\n",
      "113/113 [==============================] - 33s 296ms/step - loss: 164673.3174 - left_length_loss: 74218.1859 - right_length_loss: 90455.1289 - left_length_root_mean_squared_error: 216.5948 - right_length_root_mean_squared_error: 212.8094 - val_loss: 11670.2332 - val_left_length_loss: 6848.3686 - val_right_length_loss: 4821.8647 - val_left_length_root_mean_squared_error: 80.9323 - val_right_length_root_mean_squared_error: 68.0267\n",
      "Epoch 2/200\n",
      "113/113 [==============================] - 33s 290ms/step - loss: 5705.6596 - left_length_loss: 3015.9037 - right_length_loss: 2689.7559 - left_length_root_mean_squared_error: 53.2970 - right_length_root_mean_squared_error: 50.6670 - val_loss: 5002.8865 - val_left_length_loss: 2476.3661 - val_right_length_loss: 2526.5203 - val_left_length_root_mean_squared_error: 46.7364 - val_right_length_root_mean_squared_error: 47.2823\n",
      "Epoch 3/200\n",
      "113/113 [==============================] - 33s 293ms/step - loss: 4565.0588 - left_length_loss: 2511.5371 - right_length_loss: 2053.5218 - left_length_root_mean_squared_error: 46.7026 - right_length_root_mean_squared_error: 43.6941 - val_loss: 5365.1525 - val_left_length_loss: 2442.2374 - val_right_length_loss: 2922.9150 - val_left_length_root_mean_squared_error: 48.3217 - val_right_length_root_mean_squared_error: 53.1248\n",
      "Epoch 4/200\n",
      "113/113 [==============================] - 35s 309ms/step - loss: 2852.7053 - left_length_loss: 1332.8219 - right_length_loss: 1519.8834 - left_length_root_mean_squared_error: 35.7557 - right_length_root_mean_squared_error: 38.2774 - val_loss: 3319.8372 - val_left_length_loss: 1534.1499 - val_right_length_loss: 1785.6873 - val_left_length_root_mean_squared_error: 38.6534 - val_right_length_root_mean_squared_error: 41.2706\n",
      "Epoch 5/200\n",
      "113/113 [==============================] - 35s 307ms/step - loss: 2985.2839 - left_length_loss: 1647.1336 - right_length_loss: 1338.1503 - left_length_root_mean_squared_error: 38.8368 - right_length_root_mean_squared_error: 35.8642 - val_loss: 3422.5811 - val_left_length_loss: 1641.9769 - val_right_length_loss: 1780.6043 - val_left_length_root_mean_squared_error: 40.3177 - val_right_length_root_mean_squared_error: 41.6152\n",
      "Epoch 6/200\n",
      "113/113 [==============================] - 36s 318ms/step - loss: 2555.4756 - left_length_loss: 1093.7860 - right_length_loss: 1461.6897 - left_length_root_mean_squared_error: 32.6691 - right_length_root_mean_squared_error: 37.1576 - val_loss: 3140.9955 - val_left_length_loss: 1443.6613 - val_right_length_loss: 1697.3342 - val_left_length_root_mean_squared_error: 36.8920 - val_right_length_root_mean_squared_error: 39.5253\n",
      "Epoch 7/200\n",
      "113/113 [==============================] - 36s 323ms/step - loss: 2407.2254 - left_length_loss: 1163.4208 - right_length_loss: 1243.8046 - left_length_root_mean_squared_error: 33.4982 - right_length_root_mean_squared_error: 34.7319 - val_loss: 2786.7317 - val_left_length_loss: 1430.9974 - val_right_length_loss: 1355.7343 - val_left_length_root_mean_squared_error: 37.2048 - val_right_length_root_mean_squared_error: 35.7708\n",
      "Epoch 8/200\n",
      "113/113 [==============================] - 34s 301ms/step - loss: 2570.9459 - left_length_loss: 1131.2833 - right_length_loss: 1439.6627 - left_length_root_mean_squared_error: 33.1938 - right_length_root_mean_squared_error: 37.0608 - val_loss: 2770.6382 - val_left_length_loss: 1363.1113 - val_right_length_loss: 1407.5270 - val_left_length_root_mean_squared_error: 36.3214 - val_right_length_root_mean_squared_error: 36.7467\n",
      "Epoch 9/200\n",
      "113/113 [==============================] - 35s 309ms/step - loss: 2154.9292 - left_length_loss: 1037.3860 - right_length_loss: 1117.5431 - left_length_root_mean_squared_error: 31.7690 - right_length_root_mean_squared_error: 32.9332 - val_loss: 2829.2428 - val_left_length_loss: 1348.3825 - val_right_length_loss: 1480.8604 - val_left_length_root_mean_squared_error: 35.9425 - val_right_length_root_mean_squared_error: 37.7311\n",
      "Epoch 10/200\n",
      "113/113 [==============================] - 36s 315ms/step - loss: 2572.0066 - left_length_loss: 1245.3929 - right_length_loss: 1326.6137 - left_length_root_mean_squared_error: 34.6473 - right_length_root_mean_squared_error: 35.7826 - val_loss: 2934.1849 - val_left_length_loss: 1435.7581 - val_right_length_loss: 1498.4267 - val_left_length_root_mean_squared_error: 36.4068 - val_right_length_root_mean_squared_error: 36.8078\n",
      "Epoch 11/200\n",
      "113/113 [==============================] - 36s 323ms/step - loss: 2339.3298 - left_length_loss: 1087.8848 - right_length_loss: 1251.4450 - left_length_root_mean_squared_error: 32.5724 - right_length_root_mean_squared_error: 34.8075 - val_loss: 2751.7373 - val_left_length_loss: 1459.8805 - val_right_length_loss: 1291.8568 - val_left_length_root_mean_squared_error: 38.0562 - val_right_length_root_mean_squared_error: 35.4705\n",
      "Epoch 12/200\n",
      "113/113 [==============================] - 37s 325ms/step - loss: 2193.9352 - left_length_loss: 1097.9496 - right_length_loss: 1095.9857 - left_length_root_mean_squared_error: 32.7193 - right_length_root_mean_squared_error: 32.7088 - val_loss: 3142.7273 - val_left_length_loss: 1220.6820 - val_right_length_loss: 1922.0452 - val_left_length_root_mean_squared_error: 34.2135 - val_right_length_root_mean_squared_error: 43.6202\n",
      "Epoch 13/200\n",
      "113/113 [==============================] - 37s 323ms/step - loss: 2746.7931 - left_length_loss: 1114.4768 - right_length_loss: 1632.3163 - left_length_root_mean_squared_error: 32.9899 - right_length_root_mean_squared_error: 38.8277 - val_loss: 2523.2046 - val_left_length_loss: 1285.3113 - val_right_length_loss: 1237.8933 - val_left_length_root_mean_squared_error: 34.8755 - val_right_length_root_mean_squared_error: 34.0501\n",
      "Epoch 14/200\n",
      "113/113 [==============================] - 37s 326ms/step - loss: 2187.7092 - left_length_loss: 1109.2677 - right_length_loss: 1078.4414 - left_length_root_mean_squared_error: 32.8525 - right_length_root_mean_squared_error: 32.4070 - val_loss: 2531.9410 - val_left_length_loss: 1253.9123 - val_right_length_loss: 1278.0288 - val_left_length_root_mean_squared_error: 34.5691 - val_right_length_root_mean_squared_error: 35.0483\n",
      "Epoch 15/200\n",
      "113/113 [==============================] - 35s 311ms/step - loss: 2387.2343 - left_length_loss: 1217.7703 - right_length_loss: 1169.4640 - left_length_root_mean_squared_error: 34.1420 - right_length_root_mean_squared_error: 33.5682 - val_loss: 2967.5215 - val_left_length_loss: 1475.4661 - val_right_length_loss: 1492.0555 - val_left_length_root_mean_squared_error: 38.0871 - val_right_length_root_mean_squared_error: 37.6875\n",
      "Epoch 16/200\n",
      "113/113 [==============================] - 37s 328ms/step - loss: 2141.4141 - left_length_loss: 1075.9899 - right_length_loss: 1065.4242 - left_length_root_mean_squared_error: 32.2835 - right_length_root_mean_squared_error: 32.1820 - val_loss: 2480.8052 - val_left_length_loss: 1310.1482 - val_right_length_loss: 1170.6570 - val_left_length_root_mean_squared_error: 35.3723 - val_right_length_root_mean_squared_error: 33.1173\n",
      "Epoch 17/200\n",
      "113/113 [==============================] - 35s 311ms/step - loss: 2399.2091 - left_length_loss: 1236.4530 - right_length_loss: 1162.7561 - left_length_root_mean_squared_error: 34.4889 - right_length_root_mean_squared_error: 33.5364 - val_loss: 2700.8585 - val_left_length_loss: 1448.8791 - val_right_length_loss: 1251.9794 - val_left_length_root_mean_squared_error: 37.0091 - val_right_length_root_mean_squared_error: 33.9914\n",
      "Epoch 18/200\n",
      "113/113 [==============================] - 35s 312ms/step - loss: 2639.5377 - left_length_loss: 1139.1444 - right_length_loss: 1500.3933 - left_length_root_mean_squared_error: 33.2037 - right_length_root_mean_squared_error: 36.5916 - val_loss: 3953.0460 - val_left_length_loss: 1175.1713 - val_right_length_loss: 2777.8747 - val_left_length_root_mean_squared_error: 33.5375 - val_right_length_root_mean_squared_error: 52.2952\n",
      "Epoch 19/200\n",
      "113/113 [==============================] - 36s 315ms/step - loss: 2235.6051 - left_length_loss: 1112.9200 - right_length_loss: 1122.6851 - left_length_root_mean_squared_error: 32.9067 - right_length_root_mean_squared_error: 32.9400 - val_loss: 4316.1979 - val_left_length_loss: 2662.0552 - val_right_length_loss: 1654.1427 - val_left_length_root_mean_squared_error: 51.4735 - val_right_length_root_mean_squared_error: 39.6967\n"
     ]
    },
    {
     "name": "stdout",
     "output_type": "stream",
     "text": [
      "Epoch 20/200\n",
      "113/113 [==============================] - 36s 317ms/step - loss: 2378.4361 - left_length_loss: 1330.9984 - right_length_loss: 1047.4377 - left_length_root_mean_squared_error: 35.5963 - right_length_root_mean_squared_error: 31.8790 - val_loss: 2344.0214 - val_left_length_loss: 1215.6885 - val_right_length_loss: 1128.3329 - val_left_length_root_mean_squared_error: 33.9817 - val_right_length_root_mean_squared_error: 32.8049\n",
      "Epoch 21/200\n",
      "113/113 [==============================] - 37s 325ms/step - loss: 2047.1360 - left_length_loss: 1024.2461 - right_length_loss: 1022.8899 - left_length_root_mean_squared_error: 31.5734 - right_length_root_mean_squared_error: 31.5062 - val_loss: 2403.0327 - val_left_length_loss: 1206.6661 - val_right_length_loss: 1196.3667 - val_left_length_root_mean_squared_error: 34.1964 - val_right_length_root_mean_squared_error: 34.1101\n",
      "Epoch 22/200\n",
      "113/113 [==============================] - 35s 310ms/step - loss: 2130.0818 - left_length_loss: 1124.7767 - right_length_loss: 1005.3051 - left_length_root_mean_squared_error: 32.9739 - right_length_root_mean_squared_error: 31.2525 - val_loss: 2280.6139 - val_left_length_loss: 1153.3014 - val_right_length_loss: 1127.3125 - val_left_length_root_mean_squared_error: 33.0869 - val_right_length_root_mean_squared_error: 32.6432\n",
      "Epoch 23/200\n",
      "113/113 [==============================] - 37s 326ms/step - loss: 2056.6960 - left_length_loss: 1042.2292 - right_length_loss: 1014.4668 - left_length_root_mean_squared_error: 31.7906 - right_length_root_mean_squared_error: 31.3796 - val_loss: 2699.6852 - val_left_length_loss: 1339.1817 - val_right_length_loss: 1360.5034 - val_left_length_root_mean_squared_error: 35.2576 - val_right_length_root_mean_squared_error: 35.7795\n",
      "Epoch 24/200\n",
      "113/113 [==============================] - 38s 335ms/step - loss: 2198.0894 - left_length_loss: 1074.3119 - right_length_loss: 1123.7775 - left_length_root_mean_squared_error: 32.2939 - right_length_root_mean_squared_error: 32.9091 - val_loss: 2913.6112 - val_left_length_loss: 1169.7295 - val_right_length_loss: 1743.8816 - val_left_length_root_mean_squared_error: 33.3102 - val_right_length_root_mean_squared_error: 41.3853\n",
      "Epoch 25/200\n",
      "113/113 [==============================] - 36s 316ms/step - loss: 2092.3670 - left_length_loss: 1068.9715 - right_length_loss: 1023.3955 - left_length_root_mean_squared_error: 32.2294 - right_length_root_mean_squared_error: 31.5525 - val_loss: 2322.0765 - val_left_length_loss: 1161.5165 - val_right_length_loss: 1160.5600 - val_left_length_root_mean_squared_error: 33.0932 - val_right_length_root_mean_squared_error: 32.9195\n",
      "Epoch 26/200\n",
      "113/113 [==============================] - 36s 321ms/step - loss: 2130.6684 - left_length_loss: 1049.3414 - right_length_loss: 1081.3270 - left_length_root_mean_squared_error: 31.8989 - right_length_root_mean_squared_error: 32.4467 - val_loss: 2740.6475 - val_left_length_loss: 1347.9881 - val_right_length_loss: 1392.6594 - val_left_length_root_mean_squared_error: 35.6994 - val_right_length_root_mean_squared_error: 36.1561\n",
      "Epoch 27/200\n",
      "113/113 [==============================] - 37s 328ms/step - loss: 2140.0738 - left_length_loss: 1057.8142 - right_length_loss: 1082.2596 - left_length_root_mean_squared_error: 31.9977 - right_length_root_mean_squared_error: 32.4388 - val_loss: 2367.1185 - val_left_length_loss: 1180.2134 - val_right_length_loss: 1186.9051 - val_left_length_root_mean_squared_error: 33.3127 - val_right_length_root_mean_squared_error: 33.2531\n",
      "Epoch 28/200\n",
      "113/113 [==============================] - 36s 316ms/step - loss: 2183.1303 - left_length_loss: 1123.5768 - right_length_loss: 1059.5535 - left_length_root_mean_squared_error: 33.0497 - right_length_root_mean_squared_error: 31.9466 - val_loss: 2410.1282 - val_left_length_loss: 1253.7608 - val_right_length_loss: 1156.3674 - val_left_length_root_mean_squared_error: 34.4763 - val_right_length_root_mean_squared_error: 32.9659\n",
      "Epoch 29/200\n",
      "113/113 [==============================] - 37s 327ms/step - loss: 2062.1295 - left_length_loss: 1048.3641 - right_length_loss: 1013.7655 - left_length_root_mean_squared_error: 32.0058 - right_length_root_mean_squared_error: 31.4931 - val_loss: 2387.7511 - val_left_length_loss: 1283.8297 - val_right_length_loss: 1103.9214 - val_left_length_root_mean_squared_error: 35.0250 - val_right_length_root_mean_squared_error: 32.3782\n",
      "Epoch 30/200\n",
      "113/113 [==============================] - 38s 336ms/step - loss: 3085.8564 - left_length_loss: 2030.8932 - right_length_loss: 1054.9632 - left_length_root_mean_squared_error: 41.7442 - right_length_root_mean_squared_error: 32.0112 - val_loss: 2504.9139 - val_left_length_loss: 1399.6768 - val_right_length_loss: 1105.2371 - val_left_length_root_mean_squared_error: 36.9145 - val_right_length_root_mean_squared_error: 32.4429\n",
      "Epoch 31/200\n",
      "113/113 [==============================] - 36s 319ms/step - loss: 2050.1252 - left_length_loss: 1033.1874 - right_length_loss: 1016.9378 - left_length_root_mean_squared_error: 31.5892 - right_length_root_mean_squared_error: 31.4077 - val_loss: 2836.4320 - val_left_length_loss: 1332.7391 - val_right_length_loss: 1503.6930 - val_left_length_root_mean_squared_error: 35.8205 - val_right_length_root_mean_squared_error: 38.2788\n",
      "Epoch 32/200\n",
      "113/113 [==============================] - 37s 330ms/step - loss: 2174.8462 - left_length_loss: 1098.6210 - right_length_loss: 1076.2252 - left_length_root_mean_squared_error: 32.6446 - right_length_root_mean_squared_error: 32.2555 - val_loss: 2288.1195 - val_left_length_loss: 1175.9018 - val_right_length_loss: 1112.2176 - val_left_length_root_mean_squared_error: 33.3789 - val_right_length_root_mean_squared_error: 32.7395\n",
      "Epoch 33/200\n",
      "113/113 [==============================] - 37s 328ms/step - loss: 1949.1502 - left_length_loss: 983.3200 - right_length_loss: 965.8302 - left_length_root_mean_squared_error: 30.8394 - right_length_root_mean_squared_error: 30.5927 - val_loss: 2387.0254 - val_left_length_loss: 1111.9980 - val_right_length_loss: 1275.0274 - val_left_length_root_mean_squared_error: 32.6322 - val_right_length_root_mean_squared_error: 35.0882\n",
      "Epoch 34/200\n",
      "113/113 [==============================] - 36s 320ms/step - loss: 1977.7274 - left_length_loss: 961.7337 - right_length_loss: 1015.9937 - left_length_root_mean_squared_error: 30.3518 - right_length_root_mean_squared_error: 31.3208 - val_loss: 2180.0629 - val_left_length_loss: 1112.9058 - val_right_length_loss: 1067.1571 - val_left_length_root_mean_squared_error: 32.7895 - val_right_length_root_mean_squared_error: 32.0360\n",
      "Epoch 35/200\n",
      "113/113 [==============================] - 38s 333ms/step - loss: 2046.3485 - left_length_loss: 1021.7784 - right_length_loss: 1024.5701 - left_length_root_mean_squared_error: 31.4598 - right_length_root_mean_squared_error: 31.5137 - val_loss: 2259.1984 - val_left_length_loss: 1207.6435 - val_right_length_loss: 1051.5549 - val_left_length_root_mean_squared_error: 34.3101 - val_right_length_root_mean_squared_error: 31.7035\n",
      "Epoch 36/200\n",
      "113/113 [==============================] - 37s 326ms/step - loss: 1956.3431 - left_length_loss: 973.4337 - right_length_loss: 982.9094 - left_length_root_mean_squared_error: 30.5876 - right_length_root_mean_squared_error: 30.7887 - val_loss: 2198.2092 - val_left_length_loss: 1148.0822 - val_right_length_loss: 1050.1270 - val_left_length_root_mean_squared_error: 33.0317 - val_right_length_root_mean_squared_error: 31.6028\n",
      "Epoch 37/200\n",
      "113/113 [==============================] - 42s 373ms/step - loss: 1978.6119 - left_length_loss: 970.8359 - right_length_loss: 1007.7760 - left_length_root_mean_squared_error: 30.6504 - right_length_root_mean_squared_error: 31.2553 - val_loss: 2134.3029 - val_left_length_loss: 1084.7854 - val_right_length_loss: 1049.5176 - val_left_length_root_mean_squared_error: 32.1561 - val_right_length_root_mean_squared_error: 31.7578\n",
      "Epoch 38/200\n",
      "113/113 [==============================] - 42s 374ms/step - loss: 2018.2496 - left_length_loss: 1002.2857 - right_length_loss: 1015.9638 - left_length_root_mean_squared_error: 31.1791 - right_length_root_mean_squared_error: 31.3654 - val_loss: 2480.3130 - val_left_length_loss: 1248.8230 - val_right_length_loss: 1231.4900 - val_left_length_root_mean_squared_error: 35.0285 - val_right_length_root_mean_squared_error: 34.5692\n"
     ]
    },
    {
     "name": "stdout",
     "output_type": "stream",
     "text": [
      "Epoch 39/200\n",
      "113/113 [==============================] - 43s 380ms/step - loss: 2230.4513 - left_length_loss: 1031.5199 - right_length_loss: 1198.9314 - left_length_root_mean_squared_error: 31.6801 - right_length_root_mean_squared_error: 33.2844 - val_loss: 6065.4580 - val_left_length_loss: 1123.9820 - val_right_length_loss: 4941.4760 - val_left_length_root_mean_squared_error: 32.9995 - val_right_length_root_mean_squared_error: 70.2654\n",
      "Epoch 40/200\n",
      "113/113 [==============================] - 43s 377ms/step - loss: 2509.7759 - left_length_loss: 1026.3991 - right_length_loss: 1483.3768 - left_length_root_mean_squared_error: 31.6932 - right_length_root_mean_squared_error: 37.2249 - val_loss: 2333.3046 - val_left_length_loss: 1226.1448 - val_right_length_loss: 1107.1598 - val_left_length_root_mean_squared_error: 34.3473 - val_right_length_root_mean_squared_error: 32.6176\n",
      "Epoch 41/200\n",
      "113/113 [==============================] - 43s 380ms/step - loss: 2098.0153 - left_length_loss: 1042.9855 - right_length_loss: 1055.0298 - left_length_root_mean_squared_error: 31.7004 - right_length_root_mean_squared_error: 31.9000 - val_loss: 2465.8957 - val_left_length_loss: 1368.4917 - val_right_length_loss: 1097.4039 - val_left_length_root_mean_squared_error: 36.1760 - val_right_length_root_mean_squared_error: 32.2160\n",
      "Epoch 42/200\n",
      "113/113 [==============================] - 44s 386ms/step - loss: 2123.5547 - left_length_loss: 992.5567 - right_length_loss: 1130.9980 - left_length_root_mean_squared_error: 31.0410 - right_length_root_mean_squared_error: 33.1597 - val_loss: 2132.5433 - val_left_length_loss: 1080.8421 - val_right_length_loss: 1051.7012 - val_left_length_root_mean_squared_error: 32.2252 - val_right_length_root_mean_squared_error: 31.6277\n",
      "Epoch 43/200\n",
      "113/113 [==============================] - 40s 352ms/step - loss: 1964.6848 - left_length_loss: 979.0671 - right_length_loss: 985.6177 - left_length_root_mean_squared_error: 30.8461 - right_length_root_mean_squared_error: 30.9079 - val_loss: 2519.1573 - val_left_length_loss: 1218.0302 - val_right_length_loss: 1301.1271 - val_left_length_root_mean_squared_error: 33.8367 - val_right_length_root_mean_squared_error: 34.9944\n",
      "Epoch 44/200\n",
      "113/113 [==============================] - 38s 334ms/step - loss: 2104.7111 - left_length_loss: 1041.6353 - right_length_loss: 1063.0758 - left_length_root_mean_squared_error: 31.7269 - right_length_root_mean_squared_error: 32.0535 - val_loss: 2326.0005 - val_left_length_loss: 1243.3410 - val_right_length_loss: 1082.6596 - val_left_length_root_mean_squared_error: 34.3747 - val_right_length_root_mean_squared_error: 32.3013\n",
      "Epoch 45/200\n",
      "113/113 [==============================] - 38s 334ms/step - loss: 2025.7490 - left_length_loss: 1041.3322 - right_length_loss: 984.4168 - left_length_root_mean_squared_error: 31.6042 - right_length_root_mean_squared_error: 30.7627 - val_loss: 2307.3079 - val_left_length_loss: 1240.1241 - val_right_length_loss: 1067.1838 - val_left_length_root_mean_squared_error: 34.4176 - val_right_length_root_mean_squared_error: 31.7871\n",
      "Epoch 46/200\n",
      "113/113 [==============================] - 37s 327ms/step - loss: 1972.2348 - left_length_loss: 1003.7071 - right_length_loss: 968.5277 - left_length_root_mean_squared_error: 31.1367 - right_length_root_mean_squared_error: 30.6952 - val_loss: 2124.1102 - val_left_length_loss: 1089.1541 - val_right_length_loss: 1034.9561 - val_left_length_root_mean_squared_error: 32.4207 - val_right_length_root_mean_squared_error: 31.3599\n",
      "Epoch 47/200\n",
      "113/113 [==============================] - 37s 326ms/step - loss: 1939.2555 - left_length_loss: 963.0233 - right_length_loss: 976.2321 - left_length_root_mean_squared_error: 30.5594 - right_length_root_mean_squared_error: 30.7762 - val_loss: 2202.6024 - val_left_length_loss: 1076.5124 - val_right_length_loss: 1126.0900 - val_left_length_root_mean_squared_error: 32.0493 - val_right_length_root_mean_squared_error: 32.7047\n",
      "Epoch 48/200\n",
      "113/113 [==============================] - 38s 335ms/step - loss: 1925.9400 - left_length_loss: 961.3963 - right_length_loss: 964.5437 - left_length_root_mean_squared_error: 30.3559 - right_length_root_mean_squared_error: 30.4407 - val_loss: 2278.5515 - val_left_length_loss: 1200.9513 - val_right_length_loss: 1077.6002 - val_left_length_root_mean_squared_error: 33.5626 - val_right_length_root_mean_squared_error: 31.9362\n",
      "Epoch 49/200\n",
      "113/113 [==============================] - 42s 371ms/step - loss: 1917.4433 - left_length_loss: 968.8184 - right_length_loss: 948.6249 - left_length_root_mean_squared_error: 30.7040 - right_length_root_mean_squared_error: 30.3767 - val_loss: 2267.1406 - val_left_length_loss: 1108.4522 - val_right_length_loss: 1158.6884 - val_left_length_root_mean_squared_error: 32.6115 - val_right_length_root_mean_squared_error: 33.3628\n",
      "Epoch 50/200\n",
      "113/113 [==============================] - 42s 372ms/step - loss: 1957.3058 - left_length_loss: 993.8391 - right_length_loss: 963.4666 - left_length_root_mean_squared_error: 31.0434 - right_length_root_mean_squared_error: 30.6264 - val_loss: 2129.0462 - val_left_length_loss: 1084.6654 - val_right_length_loss: 1044.3808 - val_left_length_root_mean_squared_error: 32.2751 - val_right_length_root_mean_squared_error: 31.8584\n",
      "Epoch 51/200\n",
      "113/113 [==============================] - 43s 378ms/step - loss: 1908.2489 - left_length_loss: 939.5642 - right_length_loss: 968.6847 - left_length_root_mean_squared_error: 30.2532 - right_length_root_mean_squared_error: 30.7090 - val_loss: 2359.5141 - val_left_length_loss: 1103.0984 - val_right_length_loss: 1256.4157 - val_left_length_root_mean_squared_error: 32.5854 - val_right_length_root_mean_squared_error: 34.6855\n",
      "Epoch 52/200\n",
      "113/113 [==============================] - 44s 386ms/step - loss: 1962.6118 - left_length_loss: 979.7403 - right_length_loss: 982.8715 - left_length_root_mean_squared_error: 30.8088 - right_length_root_mean_squared_error: 30.8582 - val_loss: 2120.0970 - val_left_length_loss: 1066.0109 - val_right_length_loss: 1054.0861 - val_left_length_root_mean_squared_error: 31.8029 - val_right_length_root_mean_squared_error: 31.6734\n",
      "Epoch 53/200\n",
      "113/113 [==============================] - 43s 380ms/step - loss: 1968.7292 - left_length_loss: 1020.6649 - right_length_loss: 948.0643 - left_length_root_mean_squared_error: 31.4946 - right_length_root_mean_squared_error: 30.3154 - val_loss: 2131.0751 - val_left_length_loss: 1101.8802 - val_right_length_loss: 1029.1949 - val_left_length_root_mean_squared_error: 32.5204 - val_right_length_root_mean_squared_error: 31.2786\n",
      "Epoch 54/200\n",
      "113/113 [==============================] - 44s 386ms/step - loss: 1939.5687 - left_length_loss: 993.8884 - right_length_loss: 945.6803 - left_length_root_mean_squared_error: 31.0332 - right_length_root_mean_squared_error: 30.2753 - val_loss: 2225.5070 - val_left_length_loss: 1188.3982 - val_right_length_loss: 1037.1088 - val_left_length_root_mean_squared_error: 33.5902 - val_right_length_root_mean_squared_error: 31.4747\n",
      "Epoch 55/200\n",
      "113/113 [==============================] - 43s 377ms/step - loss: 1974.0837 - left_length_loss: 992.3722 - right_length_loss: 981.7116 - left_length_root_mean_squared_error: 31.1791 - right_length_root_mean_squared_error: 31.0142 - val_loss: 2104.3141 - val_left_length_loss: 1049.5955 - val_right_length_loss: 1054.7186 - val_left_length_root_mean_squared_error: 31.7401 - val_right_length_root_mean_squared_error: 31.6036\n",
      "Epoch 56/200\n",
      "113/113 [==============================] - 43s 381ms/step - loss: 1981.7814 - left_length_loss: 985.1475 - right_length_loss: 996.6339 - left_length_root_mean_squared_error: 30.8542 - right_length_root_mean_squared_error: 31.0624 - val_loss: 2199.2567 - val_left_length_loss: 1094.4672 - val_right_length_loss: 1104.7896 - val_left_length_root_mean_squared_error: 32.2764 - val_right_length_root_mean_squared_error: 32.3161\n",
      "Epoch 57/200\n",
      "113/113 [==============================] - 43s 379ms/step - loss: 1957.5382 - left_length_loss: 1001.7617 - right_length_loss: 955.7765 - left_length_root_mean_squared_error: 31.1406 - right_length_root_mean_squared_error: 30.4489 - val_loss: 2961.2947 - val_left_length_loss: 1712.0929 - val_right_length_loss: 1249.2018 - val_left_length_root_mean_squared_error: 41.2555 - val_right_length_root_mean_squared_error: 34.7385\n"
     ]
    },
    {
     "name": "stdout",
     "output_type": "stream",
     "text": [
      "Epoch 58/200\n",
      "113/113 [==============================] - 42s 371ms/step - loss: 2003.5390 - left_length_loss: 1047.3759 - right_length_loss: 956.1632 - left_length_root_mean_squared_error: 31.8613 - right_length_root_mean_squared_error: 30.4789 - val_loss: 2130.8666 - val_left_length_loss: 1113.6539 - val_right_length_loss: 1017.2126 - val_left_length_root_mean_squared_error: 32.7307 - val_right_length_root_mean_squared_error: 31.0478\n",
      "Epoch 59/200\n",
      "113/113 [==============================] - 44s 392ms/step - loss: 1974.0646 - left_length_loss: 1033.0026 - right_length_loss: 941.0620 - left_length_root_mean_squared_error: 31.6489 - right_length_root_mean_squared_error: 30.1638 - val_loss: 2440.4982 - val_left_length_loss: 1282.3039 - val_right_length_loss: 1158.1943 - val_left_length_root_mean_squared_error: 35.2931 - val_right_length_root_mean_squared_error: 33.0935\n",
      "Epoch 60/200\n",
      "113/113 [==============================] - 44s 389ms/step - loss: 1975.4731 - left_length_loss: 1014.5601 - right_length_loss: 960.9130 - left_length_root_mean_squared_error: 31.1368 - right_length_root_mean_squared_error: 30.3606 - val_loss: 2211.4501 - val_left_length_loss: 1130.3054 - val_right_length_loss: 1081.1447 - val_left_length_root_mean_squared_error: 32.7057 - val_right_length_root_mean_squared_error: 31.9444\n",
      "Epoch 61/200\n",
      "113/113 [==============================] - 42s 375ms/step - loss: 1952.6871 - left_length_loss: 1004.2500 - right_length_loss: 948.4371 - left_length_root_mean_squared_error: 31.2268 - right_length_root_mean_squared_error: 30.3796 - val_loss: 2565.6331 - val_left_length_loss: 1527.9606 - val_right_length_loss: 1037.6726 - val_left_length_root_mean_squared_error: 38.8160 - val_right_length_root_mean_squared_error: 31.5037\n",
      "Epoch 62/200\n",
      "113/113 [==============================] - 42s 376ms/step - loss: 1899.4787 - left_length_loss: 973.2413 - right_length_loss: 926.2374 - left_length_root_mean_squared_error: 30.6147 - right_length_root_mean_squared_error: 29.9582 - val_loss: 2094.7465 - val_left_length_loss: 1079.8879 - val_right_length_loss: 1014.8585 - val_left_length_root_mean_squared_error: 32.0272 - val_right_length_root_mean_squared_error: 31.0406\n",
      "Epoch 63/200\n",
      "113/113 [==============================] - 43s 384ms/step - loss: 1870.2689 - left_length_loss: 946.1604 - right_length_loss: 924.1085 - left_length_root_mean_squared_error: 30.1677 - right_length_root_mean_squared_error: 29.8411 - val_loss: 2048.1788 - val_left_length_loss: 1055.0635 - val_right_length_loss: 993.1153 - val_left_length_root_mean_squared_error: 31.8659 - val_right_length_root_mean_squared_error: 30.8454\n",
      "Epoch 64/200\n",
      "113/113 [==============================] - 42s 375ms/step - loss: 1919.4131 - left_length_loss: 949.8780 - right_length_loss: 969.5351 - left_length_root_mean_squared_error: 30.3600 - right_length_root_mean_squared_error: 30.6959 - val_loss: 2205.0588 - val_left_length_loss: 1131.0475 - val_right_length_loss: 1074.0112 - val_left_length_root_mean_squared_error: 33.0473 - val_right_length_root_mean_squared_error: 32.2654\n",
      "Epoch 65/200\n",
      "113/113 [==============================] - 44s 385ms/step - loss: 1911.0260 - left_length_loss: 951.8001 - right_length_loss: 959.2259 - left_length_root_mean_squared_error: 30.4780 - right_length_root_mean_squared_error: 30.6444 - val_loss: 2169.5945 - val_left_length_loss: 1076.7098 - val_right_length_loss: 1092.8847 - val_left_length_root_mean_squared_error: 31.9070 - val_right_length_root_mean_squared_error: 32.0738\n",
      "Epoch 66/200\n",
      "113/113 [==============================] - 44s 385ms/step - loss: 1930.7545 - left_length_loss: 968.6390 - right_length_loss: 962.1155 - left_length_root_mean_squared_error: 30.6455 - right_length_root_mean_squared_error: 30.5458 - val_loss: 2081.4068 - val_left_length_loss: 1066.0380 - val_right_length_loss: 1015.3689 - val_left_length_root_mean_squared_error: 31.9431 - val_right_length_root_mean_squared_error: 31.1750\n",
      "Epoch 67/200\n",
      "113/113 [==============================] - 43s 384ms/step - loss: 2245.2180 - left_length_loss: 977.5515 - right_length_loss: 1267.6664 - left_length_root_mean_squared_error: 30.8671 - right_length_root_mean_squared_error: 33.7808 - val_loss: 5277.9676 - val_left_length_loss: 1070.4418 - val_right_length_loss: 4207.5258 - val_left_length_root_mean_squared_error: 31.9449 - val_right_length_root_mean_squared_error: 64.8226\n",
      "Epoch 68/200\n",
      "113/113 [==============================] - 44s 388ms/step - loss: 30167.2582 - left_length_loss: 961.4904 - right_length_loss: 29205.7675 - left_length_root_mean_squared_error: 30.6274 - right_length_root_mean_squared_error: 147.5827 - val_loss: 36707.0316 - val_left_length_loss: 1076.2107 - val_right_length_loss: 35630.8206 - val_left_length_root_mean_squared_error: 32.1937 - val_right_length_root_mean_squared_error: 188.7279\n",
      "Epoch 69/200\n",
      "113/113 [==============================] - 43s 377ms/step - loss: 9276.2352 - left_length_loss: 947.5716 - right_length_loss: 8328.6635 - left_length_root_mean_squared_error: 30.3369 - right_length_root_mean_squared_error: 76.3172 - val_loss: 2463.7777 - val_left_length_loss: 1068.5686 - val_right_length_loss: 1395.2090 - val_left_length_root_mean_squared_error: 31.8114 - val_right_length_root_mean_squared_error: 36.7672\n",
      "Epoch 70/200\n",
      "113/113 [==============================] - 43s 382ms/step - loss: 2648.3521 - left_length_loss: 963.3199 - right_length_loss: 1685.0322 - left_length_root_mean_squared_error: 30.5231 - right_length_root_mean_squared_error: 38.5740 - val_loss: 9767.7312 - val_left_length_loss: 1152.8102 - val_right_length_loss: 8614.9210 - val_left_length_root_mean_squared_error: 33.1390 - val_right_length_root_mean_squared_error: 92.6489\n",
      "Epoch 71/200\n",
      "113/113 [==============================] - 43s 384ms/step - loss: 3982.5961 - left_length_loss: 950.3022 - right_length_loss: 3032.2939 - left_length_root_mean_squared_error: 30.4084 - right_length_root_mean_squared_error: 51.6406 - val_loss: 2778.1407 - val_left_length_loss: 1111.5277 - val_right_length_loss: 1666.6130 - val_left_length_root_mean_squared_error: 32.4875 - val_right_length_root_mean_squared_error: 40.5144\n",
      "Epoch 72/200\n",
      "113/113 [==============================] - 43s 382ms/step - loss: 2046.9333 - left_length_loss: 934.7782 - right_length_loss: 1112.1551 - left_length_root_mean_squared_error: 30.2180 - right_length_root_mean_squared_error: 32.9399 - val_loss: 2182.0415 - val_left_length_loss: 1043.2248 - val_right_length_loss: 1138.8167 - val_left_length_root_mean_squared_error: 31.5254 - val_right_length_root_mean_squared_error: 33.1310\n",
      "Epoch 73/200\n",
      "113/113 [==============================] - 43s 377ms/step - loss: 1925.6302 - left_length_loss: 933.3055 - right_length_loss: 992.3247 - left_length_root_mean_squared_error: 29.9316 - right_length_root_mean_squared_error: 30.8649 - val_loss: 2115.3518 - val_left_length_loss: 1025.4680 - val_right_length_loss: 1089.8837 - val_left_length_root_mean_squared_error: 31.3959 - val_right_length_root_mean_squared_error: 32.4488\n",
      "Epoch 74/200\n",
      "113/113 [==============================] - 44s 387ms/step - loss: 1911.7241 - left_length_loss: 947.9452 - right_length_loss: 963.7788 - left_length_root_mean_squared_error: 30.5105 - right_length_root_mean_squared_error: 30.7956 - val_loss: 2118.2476 - val_left_length_loss: 1071.2172 - val_right_length_loss: 1047.0305 - val_left_length_root_mean_squared_error: 31.8941 - val_right_length_root_mean_squared_error: 31.7857\n",
      "Epoch 75/200\n",
      "113/113 [==============================] - 43s 383ms/step - loss: 1909.3060 - left_length_loss: 940.6788 - right_length_loss: 968.6272 - left_length_root_mean_squared_error: 30.2177 - right_length_root_mean_squared_error: 30.7242 - val_loss: 2131.2806 - val_left_length_loss: 1040.5724 - val_right_length_loss: 1090.7083 - val_left_length_root_mean_squared_error: 31.7618 - val_right_length_root_mean_squared_error: 32.5599\n",
      "Epoch 76/200\n",
      "113/113 [==============================] - 43s 379ms/step - loss: 1959.9681 - left_length_loss: 998.6073 - right_length_loss: 961.3608 - left_length_root_mean_squared_error: 31.0705 - right_length_root_mean_squared_error: 30.5635 - val_loss: 2104.4967 - val_left_length_loss: 1080.5070 - val_right_length_loss: 1023.9898 - val_left_length_root_mean_squared_error: 32.0799 - val_right_length_root_mean_squared_error: 31.3531\n"
     ]
    },
    {
     "name": "stdout",
     "output_type": "stream",
     "text": [
      "Epoch 77/200\n",
      "113/113 [==============================] - 43s 382ms/step - loss: 1909.6491 - left_length_loss: 935.3365 - right_length_loss: 974.3126 - left_length_root_mean_squared_error: 30.0724 - right_length_root_mean_squared_error: 30.7044 - val_loss: 2097.2522 - val_left_length_loss: 1064.8146 - val_right_length_loss: 1032.4375 - val_left_length_root_mean_squared_error: 31.9774 - val_right_length_root_mean_squared_error: 31.4837\n",
      "Epoch 78/200\n",
      "113/113 [==============================] - 43s 384ms/step - loss: 1889.1525 - left_length_loss: 942.9991 - right_length_loss: 946.1534 - left_length_root_mean_squared_error: 30.1903 - right_length_root_mean_squared_error: 30.2497 - val_loss: 2057.1051 - val_left_length_loss: 1029.7718 - val_right_length_loss: 1027.3333 - val_left_length_root_mean_squared_error: 31.3282 - val_right_length_root_mean_squared_error: 31.3594\n",
      "Epoch 79/200\n",
      "113/113 [==============================] - 43s 382ms/step - loss: 1838.5912 - left_length_loss: 911.3616 - right_length_loss: 927.2296 - left_length_root_mean_squared_error: 29.6770 - right_length_root_mean_squared_error: 29.9481 - val_loss: 2035.9637 - val_left_length_loss: 1010.2274 - val_right_length_loss: 1025.7363 - val_left_length_root_mean_squared_error: 31.1172 - val_right_length_root_mean_squared_error: 31.3624\n",
      "Epoch 80/200\n",
      "113/113 [==============================] - 42s 375ms/step - loss: 1853.2592 - left_length_loss: 912.5757 - right_length_loss: 940.6835 - left_length_root_mean_squared_error: 29.7881 - right_length_root_mean_squared_error: 30.2540 - val_loss: 2088.7203 - val_left_length_loss: 1033.1648 - val_right_length_loss: 1055.5555 - val_left_length_root_mean_squared_error: 31.4649 - val_right_length_root_mean_squared_error: 31.8661\n",
      "Epoch 81/200\n",
      "113/113 [==============================] - 44s 388ms/step - loss: 1938.1275 - left_length_loss: 991.4322 - right_length_loss: 946.6953 - left_length_root_mean_squared_error: 30.9533 - right_length_root_mean_squared_error: 30.3013 - val_loss: 2159.0873 - val_left_length_loss: 1107.8921 - val_right_length_loss: 1051.1952 - val_left_length_root_mean_squared_error: 32.9071 - val_right_length_root_mean_squared_error: 31.9247\n",
      "Epoch 82/200\n",
      "113/113 [==============================] - 43s 381ms/step - loss: 1894.5776 - left_length_loss: 955.1969 - right_length_loss: 939.3807 - left_length_root_mean_squared_error: 30.5020 - right_length_root_mean_squared_error: 30.2383 - val_loss: 2247.2689 - val_left_length_loss: 1187.4950 - val_right_length_loss: 1059.7739 - val_left_length_root_mean_squared_error: 33.5343 - val_right_length_root_mean_squared_error: 31.6687\n",
      "Epoch 83/200\n",
      "113/113 [==============================] - 43s 382ms/step - loss: 1938.3659 - left_length_loss: 987.2739 - right_length_loss: 951.0919 - left_length_root_mean_squared_error: 30.8441 - right_length_root_mean_squared_error: 30.2428 - val_loss: 2375.3191 - val_left_length_loss: 1244.4986 - val_right_length_loss: 1130.8205 - val_left_length_root_mean_squared_error: 35.0456 - val_right_length_root_mean_squared_error: 33.3259\n",
      "Epoch 84/200\n",
      "113/113 [==============================] - 44s 386ms/step - loss: 1910.5968 - left_length_loss: 964.6916 - right_length_loss: 945.9051 - left_length_root_mean_squared_error: 30.6172 - right_length_root_mean_squared_error: 30.3412 - val_loss: 2106.5429 - val_left_length_loss: 1097.5643 - val_right_length_loss: 1008.9785 - val_left_length_root_mean_squared_error: 32.1943 - val_right_length_root_mean_squared_error: 30.9937\n",
      "Epoch 85/200\n",
      "113/113 [==============================] - 43s 384ms/step - loss: 1851.6984 - left_length_loss: 927.4601 - right_length_loss: 924.2383 - left_length_root_mean_squared_error: 29.8963 - right_length_root_mean_squared_error: 29.8623 - val_loss: 2082.0257 - val_left_length_loss: 1066.0820 - val_right_length_loss: 1015.9437 - val_left_length_root_mean_squared_error: 32.1824 - val_right_length_root_mean_squared_error: 31.3407\n",
      "Epoch 86/200\n",
      "113/113 [==============================] - 43s 378ms/step - loss: 1912.4104 - left_length_loss: 956.4952 - right_length_loss: 955.9151 - left_length_root_mean_squared_error: 30.3156 - right_length_root_mean_squared_error: 30.4222 - val_loss: 2352.1980 - val_left_length_loss: 1319.1478 - val_right_length_loss: 1033.0501 - val_left_length_root_mean_squared_error: 36.1539 - val_right_length_root_mean_squared_error: 31.3614\n",
      "Epoch 87/200\n",
      "113/113 [==============================] - 44s 390ms/step - loss: 66736.6085 - left_length_loss: 65798.1542 - right_length_loss: 938.4549 - left_length_root_mean_squared_error: 159.8419 - right_length_root_mean_squared_error: 30.1557 - val_loss: 13862.5530 - val_left_length_loss: 12852.1929 - val_right_length_loss: 1010.3601 - val_left_length_root_mean_squared_error: 112.5141 - val_right_length_root_mean_squared_error: 31.0298\n",
      "Epoch 88/200\n",
      "113/113 [==============================] - 43s 377ms/step - loss: 8555.9290 - left_length_loss: 7604.7958 - right_length_loss: 951.1332 - left_length_root_mean_squared_error: 80.2791 - right_length_root_mean_squared_error: 30.2255 - val_loss: 3051.0332 - val_left_length_loss: 1940.6860 - val_right_length_loss: 1110.3472 - val_left_length_root_mean_squared_error: 43.5391 - val_right_length_root_mean_squared_error: 32.6828\n",
      "Epoch 89/200\n",
      "113/113 [==============================] - 43s 383ms/step - loss: 2064.4586 - left_length_loss: 1132.7960 - right_length_loss: 931.6626 - left_length_root_mean_squared_error: 33.1993 - right_length_root_mean_squared_error: 30.0711 - val_loss: 2318.9748 - val_left_length_loss: 1280.0278 - val_right_length_loss: 1038.9469 - val_left_length_root_mean_squared_error: 35.1584 - val_right_length_root_mean_squared_error: 31.4898\n",
      "Epoch 90/200\n",
      "113/113 [==============================] - 43s 378ms/step - loss: 1991.7549 - left_length_loss: 1063.2054 - right_length_loss: 928.5495 - left_length_root_mean_squared_error: 32.1199 - right_length_root_mean_squared_error: 30.0086 - val_loss: 2351.5836 - val_left_length_loss: 1319.5612 - val_right_length_loss: 1032.0223 - val_left_length_root_mean_squared_error: 35.3316 - val_right_length_root_mean_squared_error: 31.3085\n",
      "Epoch 91/200\n",
      "113/113 [==============================] - 43s 376ms/step - loss: 2025.8806 - left_length_loss: 1043.2158 - right_length_loss: 982.6647 - left_length_root_mean_squared_error: 31.7537 - right_length_root_mean_squared_error: 30.8299 - val_loss: 2155.1821 - val_left_length_loss: 1109.4624 - val_right_length_loss: 1045.7197 - val_left_length_root_mean_squared_error: 32.6554 - val_right_length_root_mean_squared_error: 31.8093\n",
      "Epoch 92/200\n",
      "113/113 [==============================] - 42s 375ms/step - loss: 1925.9510 - left_length_loss: 972.7455 - right_length_loss: 953.2055 - left_length_root_mean_squared_error: 30.6410 - right_length_root_mean_squared_error: 30.3476 - val_loss: 2251.4227 - val_left_length_loss: 1203.4897 - val_right_length_loss: 1047.9330 - val_left_length_root_mean_squared_error: 34.2476 - val_right_length_root_mean_squared_error: 31.8635\n",
      "Epoch 93/200\n",
      "113/113 [==============================] - 43s 380ms/step - loss: 1917.2339 - left_length_loss: 967.9657 - right_length_loss: 949.2682 - left_length_root_mean_squared_error: 30.6594 - right_length_root_mean_squared_error: 30.3245 - val_loss: 2081.6835 - val_left_length_loss: 1081.7459 - val_right_length_loss: 999.9376 - val_left_length_root_mean_squared_error: 32.2408 - val_right_length_root_mean_squared_error: 30.9839\n",
      "Epoch 94/200\n",
      "113/113 [==============================] - 42s 375ms/step - loss: 1885.3810 - left_length_loss: 966.2107 - right_length_loss: 919.1704 - left_length_root_mean_squared_error: 30.6357 - right_length_root_mean_squared_error: 29.8389 - val_loss: 2153.8660 - val_left_length_loss: 1141.0854 - val_right_length_loss: 1012.7805 - val_left_length_root_mean_squared_error: 33.2575 - val_right_length_root_mean_squared_error: 31.1721\n",
      "Epoch 95/200\n",
      "113/113 [==============================] - 42s 370ms/step - loss: 1914.2884 - left_length_loss: 965.1252 - right_length_loss: 949.1632 - left_length_root_mean_squared_error: 30.6579 - right_length_root_mean_squared_error: 30.3904 - val_loss: 2110.3735 - val_left_length_loss: 1095.9437 - val_right_length_loss: 1014.4298 - val_left_length_root_mean_squared_error: 32.2928 - val_right_length_root_mean_squared_error: 31.1072\n"
     ]
    },
    {
     "name": "stdout",
     "output_type": "stream",
     "text": [
      "Epoch 96/200\n",
      "113/113 [==============================] - 44s 385ms/step - loss: 1875.4882 - left_length_loss: 944.3031 - right_length_loss: 931.1850 - left_length_root_mean_squared_error: 30.1549 - right_length_root_mean_squared_error: 29.9550 - val_loss: 2193.7614 - val_left_length_loss: 1084.1684 - val_right_length_loss: 1109.5929 - val_left_length_root_mean_squared_error: 32.3684 - val_right_length_root_mean_squared_error: 32.6704\n",
      "Epoch 97/200\n",
      "113/113 [==============================] - 42s 371ms/step - loss: 1877.4389 - left_length_loss: 942.8185 - right_length_loss: 934.6205 - left_length_root_mean_squared_error: 30.2853 - right_length_root_mean_squared_error: 30.1482 - val_loss: 2158.3775 - val_left_length_loss: 1141.7601 - val_right_length_loss: 1016.6174 - val_left_length_root_mean_squared_error: 33.0335 - val_right_length_root_mean_squared_error: 31.2448\n",
      "Epoch 98/200\n",
      "113/113 [==============================] - 42s 370ms/step - loss: 1870.2450 - left_length_loss: 956.1002 - right_length_loss: 914.1448 - left_length_root_mean_squared_error: 30.4977 - right_length_root_mean_squared_error: 29.7977 - val_loss: 2070.7285 - val_left_length_loss: 1072.1171 - val_right_length_loss: 998.6113 - val_left_length_root_mean_squared_error: 32.0283 - val_right_length_root_mean_squared_error: 30.9247\n",
      "Epoch 99/200\n",
      "113/113 [==============================] - 42s 374ms/step - loss: 1880.3121 - left_length_loss: 946.0275 - right_length_loss: 934.2846 - left_length_root_mean_squared_error: 30.2714 - right_length_root_mean_squared_error: 30.1302 - val_loss: 2115.1524 - val_left_length_loss: 1088.8839 - val_right_length_loss: 1026.2684 - val_left_length_root_mean_squared_error: 32.5191 - val_right_length_root_mean_squared_error: 31.5312\n",
      "Epoch 100/200\n",
      "113/113 [==============================] - 42s 374ms/step - loss: 1832.9860 - left_length_loss: 925.4938 - right_length_loss: 907.4922 - left_length_root_mean_squared_error: 29.8370 - right_length_root_mean_squared_error: 29.5476 - val_loss: 2088.6721 - val_left_length_loss: 1061.4039 - val_right_length_loss: 1027.2683 - val_left_length_root_mean_squared_error: 31.8107 - val_right_length_root_mean_squared_error: 31.1954\n",
      "Epoch 101/200\n",
      "113/113 [==============================] - 42s 376ms/step - loss: 1908.3941 - left_length_loss: 954.0789 - right_length_loss: 954.3152 - left_length_root_mean_squared_error: 30.5222 - right_length_root_mean_squared_error: 30.5032 - val_loss: 2047.5739 - val_left_length_loss: 1054.2556 - val_right_length_loss: 993.3183 - val_left_length_root_mean_squared_error: 31.8150 - val_right_length_root_mean_squared_error: 30.9013\n",
      "Epoch 102/200\n",
      "113/113 [==============================] - 43s 380ms/step - loss: 1890.9539 - left_length_loss: 955.5869 - right_length_loss: 935.3671 - left_length_root_mean_squared_error: 30.4262 - right_length_root_mean_squared_error: 30.0891 - val_loss: 2080.1856 - val_left_length_loss: 1097.5637 - val_right_length_loss: 982.6219 - val_left_length_root_mean_squared_error: 32.7155 - val_right_length_root_mean_squared_error: 30.7117\n",
      "Epoch 103/200\n",
      "113/113 [==============================] - 42s 375ms/step - loss: 1898.7040 - left_length_loss: 964.2100 - right_length_loss: 934.4940 - left_length_root_mean_squared_error: 30.7128 - right_length_root_mean_squared_error: 30.2137 - val_loss: 2190.6045 - val_left_length_loss: 1130.7966 - val_right_length_loss: 1059.8079 - val_left_length_root_mean_squared_error: 32.8974 - val_right_length_root_mean_squared_error: 32.0846\n",
      "Epoch 104/200\n",
      "113/113 [==============================] - 42s 375ms/step - loss: 1893.8934 - left_length_loss: 929.7536 - right_length_loss: 964.1398 - left_length_root_mean_squared_error: 29.9869 - right_length_root_mean_squared_error: 30.5841 - val_loss: 2205.4567 - val_left_length_loss: 1075.5747 - val_right_length_loss: 1129.8820 - val_left_length_root_mean_squared_error: 32.0698 - val_right_length_root_mean_squared_error: 32.8958\n",
      "Epoch 105/200\n",
      "113/113 [==============================] - 43s 382ms/step - loss: 1859.2653 - left_length_loss: 929.6088 - right_length_loss: 929.6565 - left_length_root_mean_squared_error: 30.1983 - right_length_root_mean_squared_error: 30.2483 - val_loss: 2118.1996 - val_left_length_loss: 1106.2604 - val_right_length_loss: 1011.9392 - val_left_length_root_mean_squared_error: 32.8366 - val_right_length_root_mean_squared_error: 31.1704\n",
      "Epoch 106/200\n",
      "113/113 [==============================] - 47s 419ms/step - loss: 1855.1422 - left_length_loss: 945.7617 - right_length_loss: 909.3805 - left_length_root_mean_squared_error: 30.3300 - right_length_root_mean_squared_error: 29.7373 - val_loss: 2128.8220 - val_left_length_loss: 1117.3468 - val_right_length_loss: 1011.4752 - val_left_length_root_mean_squared_error: 32.5181 - val_right_length_root_mean_squared_error: 30.9780\n",
      "Epoch 107/200\n",
      "113/113 [==============================] - 48s 425ms/step - loss: 1946.9526 - left_length_loss: 939.6363 - right_length_loss: 1007.3163 - left_length_root_mean_squared_error: 30.1495 - right_length_root_mean_squared_error: 31.2760 - val_loss: 2089.3996 - val_left_length_loss: 1039.8201 - val_right_length_loss: 1049.5795 - val_left_length_root_mean_squared_error: 31.5305 - val_right_length_root_mean_squared_error: 31.7384\n",
      "Epoch 108/200\n",
      "113/113 [==============================] - 49s 431ms/step - loss: 1887.4443 - left_length_loss: 943.1147 - right_length_loss: 944.3296 - left_length_root_mean_squared_error: 30.1825 - right_length_root_mean_squared_error: 30.2032 - val_loss: 2378.6140 - val_left_length_loss: 1304.4383 - val_right_length_loss: 1074.1758 - val_left_length_root_mean_squared_error: 35.3450 - val_right_length_root_mean_squared_error: 31.9495\n",
      "Epoch 109/200\n",
      "113/113 [==============================] - 48s 424ms/step - loss: 1924.5330 - left_length_loss: 971.4710 - right_length_loss: 953.0620 - left_length_root_mean_squared_error: 30.7038 - right_length_root_mean_squared_error: 30.4273 - val_loss: 2082.2509 - val_left_length_loss: 1077.2711 - val_right_length_loss: 1004.9799 - val_left_length_root_mean_squared_error: 32.0475 - val_right_length_root_mean_squared_error: 31.0246\n",
      "Epoch 110/200\n",
      "113/113 [==============================] - 49s 429ms/step - loss: 1936.7455 - left_length_loss: 997.5290 - right_length_loss: 939.2166 - left_length_root_mean_squared_error: 31.2125 - right_length_root_mean_squared_error: 30.2521 - val_loss: 2123.1307 - val_left_length_loss: 1085.5518 - val_right_length_loss: 1037.5789 - val_left_length_root_mean_squared_error: 32.2790 - val_right_length_root_mean_squared_error: 31.6248\n",
      "Epoch 111/200\n",
      "113/113 [==============================] - 53s 471ms/step - loss: 1882.5374 - left_length_loss: 946.9504 - right_length_loss: 935.5870 - left_length_root_mean_squared_error: 30.2517 - right_length_root_mean_squared_error: 30.0857 - val_loss: 2091.3710 - val_left_length_loss: 1070.0664 - val_right_length_loss: 1021.3046 - val_left_length_root_mean_squared_error: 31.9772 - val_right_length_root_mean_squared_error: 31.1254\n",
      "Epoch 112/200\n",
      "113/113 [==============================] - 43s 379ms/step - loss: 1851.3136 - left_length_loss: 937.8430 - right_length_loss: 913.4706 - left_length_root_mean_squared_error: 30.1722 - right_length_root_mean_squared_error: 29.7896 - val_loss: 2060.6717 - val_left_length_loss: 1062.8008 - val_right_length_loss: 997.8708 - val_left_length_root_mean_squared_error: 31.9500 - val_right_length_root_mean_squared_error: 30.9483\n",
      "Epoch 113/200\n",
      "113/113 [==============================] - 48s 422ms/step - loss: 1857.2721 - left_length_loss: 940.1821 - right_length_loss: 917.0900 - left_length_root_mean_squared_error: 30.2026 - right_length_root_mean_squared_error: 29.8783 - val_loss: 2059.1993 - val_left_length_loss: 1067.0256 - val_right_length_loss: 992.1737 - val_left_length_root_mean_squared_error: 32.1635 - val_right_length_root_mean_squared_error: 30.9180\n",
      "Epoch 114/200\n",
      "113/113 [==============================] - 44s 387ms/step - loss: 1925.1258 - left_length_loss: 984.1343 - right_length_loss: 940.9915 - left_length_root_mean_squared_error: 30.8200 - right_length_root_mean_squared_error: 30.1874 - val_loss: 2149.9771 - val_left_length_loss: 1071.7209 - val_right_length_loss: 1078.2561 - val_left_length_root_mean_squared_error: 32.1135 - val_right_length_root_mean_squared_error: 32.4153\n"
     ]
    },
    {
     "name": "stdout",
     "output_type": "stream",
     "text": [
      "Epoch 115/200\n",
      "113/113 [==============================] - 48s 421ms/step - loss: 1901.3528 - left_length_loss: 975.0619 - right_length_loss: 926.2910 - left_length_root_mean_squared_error: 30.7206 - right_length_root_mean_squared_error: 29.9712 - val_loss: 2061.4251 - val_left_length_loss: 1053.4069 - val_right_length_loss: 1008.0181 - val_left_length_root_mean_squared_error: 31.6887 - val_right_length_root_mean_squared_error: 31.0984\n",
      "Epoch 116/200\n",
      "113/113 [==============================] - 47s 416ms/step - loss: 1869.0146 - left_length_loss: 935.8208 - right_length_loss: 933.1938 - left_length_root_mean_squared_error: 30.0839 - right_length_root_mean_squared_error: 30.0469 - val_loss: 2169.1227 - val_left_length_loss: 1169.6478 - val_right_length_loss: 999.4748 - val_left_length_root_mean_squared_error: 33.5314 - val_right_length_root_mean_squared_error: 30.9788\n",
      "Epoch 117/200\n",
      "113/113 [==============================] - 52s 458ms/step - loss: 1865.0870 - left_length_loss: 942.8701 - right_length_loss: 922.2169 - left_length_root_mean_squared_error: 30.2094 - right_length_root_mean_squared_error: 29.8716 - val_loss: 2072.1740 - val_left_length_loss: 1050.2657 - val_right_length_loss: 1021.9084 - val_left_length_root_mean_squared_error: 31.7571 - val_right_length_root_mean_squared_error: 31.2599\n",
      "Epoch 118/200\n",
      "113/113 [==============================] - 46s 407ms/step - loss: 1846.1090 - left_length_loss: 924.9427 - right_length_loss: 921.1663 - left_length_root_mean_squared_error: 29.8698 - right_length_root_mean_squared_error: 29.7916 - val_loss: 2171.3395 - val_left_length_loss: 1032.7154 - val_right_length_loss: 1138.6241 - val_left_length_root_mean_squared_error: 31.3998 - val_right_length_root_mean_squared_error: 32.7953\n",
      "Epoch 119/200\n",
      "113/113 [==============================] - 46s 406ms/step - loss: 1924.1866 - left_length_loss: 953.9984 - right_length_loss: 970.1882 - left_length_root_mean_squared_error: 30.3768 - right_length_root_mean_squared_error: 30.5893 - val_loss: 2126.3478 - val_left_length_loss: 1060.5070 - val_right_length_loss: 1065.8408 - val_left_length_root_mean_squared_error: 32.0526 - val_right_length_root_mean_squared_error: 32.2966\n",
      "Epoch 120/200\n",
      "113/113 [==============================] - 47s 412ms/step - loss: 1898.9255 - left_length_loss: 942.7334 - right_length_loss: 956.1921 - left_length_root_mean_squared_error: 30.1474 - right_length_root_mean_squared_error: 30.3981 - val_loss: 2115.6084 - val_left_length_loss: 1078.9484 - val_right_length_loss: 1036.6600 - val_left_length_root_mean_squared_error: 32.1984 - val_right_length_root_mean_squared_error: 31.4037\n",
      "Epoch 121/200\n",
      "113/113 [==============================] - 46s 404ms/step - loss: 1852.4130 - left_length_loss: 942.3493 - right_length_loss: 910.0636 - left_length_root_mean_squared_error: 30.2478 - right_length_root_mean_squared_error: 29.7615 - val_loss: 3086.0205 - val_left_length_loss: 2001.0978 - val_right_length_loss: 1084.9226 - val_left_length_root_mean_squared_error: 44.6871 - val_right_length_root_mean_squared_error: 32.3760\n",
      "Epoch 122/200\n",
      "113/113 [==============================] - 46s 404ms/step - loss: 1965.2306 - left_length_loss: 1033.0594 - right_length_loss: 932.1712 - left_length_root_mean_squared_error: 31.5179 - right_length_root_mean_squared_error: 29.9933 - val_loss: 2143.1426 - val_left_length_loss: 1120.5713 - val_right_length_loss: 1022.5714 - val_left_length_root_mean_squared_error: 32.8209 - val_right_length_root_mean_squared_error: 31.3286\n",
      "Epoch 123/200\n",
      "113/113 [==============================] - 51s 449ms/step - loss: 1941.9282 - left_length_loss: 1026.5983 - right_length_loss: 915.3299 - left_length_root_mean_squared_error: 31.3405 - right_length_root_mean_squared_error: 29.7869 - val_loss: 2137.9664 - val_left_length_loss: 1148.9509 - val_right_length_loss: 989.0154 - val_left_length_root_mean_squared_error: 33.0070 - val_right_length_root_mean_squared_error: 30.7573\n",
      "Epoch 124/200\n",
      "113/113 [==============================] - 47s 414ms/step - loss: 1903.8251 - left_length_loss: 1005.7569 - right_length_loss: 898.0682 - left_length_root_mean_squared_error: 31.1258 - right_length_root_mean_squared_error: 29.4452 - val_loss: 2034.0535 - val_left_length_loss: 1041.5402 - val_right_length_loss: 992.5134 - val_left_length_root_mean_squared_error: 31.6064 - val_right_length_root_mean_squared_error: 30.8093\n",
      "Epoch 125/200\n",
      "113/113 [==============================] - 49s 436ms/step - loss: 1869.3393 - left_length_loss: 964.1337 - right_length_loss: 905.2056 - left_length_root_mean_squared_error: 30.5759 - right_length_root_mean_squared_error: 29.6502 - val_loss: 2208.4459 - val_left_length_loss: 1192.0795 - val_right_length_loss: 1016.3664 - val_left_length_root_mean_squared_error: 33.7812 - val_right_length_root_mean_squared_error: 31.2907\n",
      "Epoch 126/200\n",
      "113/113 [==============================] - 45s 398ms/step - loss: 1877.5548 - left_length_loss: 938.4249 - right_length_loss: 939.1298 - left_length_root_mean_squared_error: 30.0717 - right_length_root_mean_squared_error: 30.0875 - val_loss: 2036.5493 - val_left_length_loss: 1049.0652 - val_right_length_loss: 987.4840 - val_left_length_root_mean_squared_error: 31.6550 - val_right_length_root_mean_squared_error: 30.6756\n",
      "Epoch 127/200\n",
      "113/113 [==============================] - 45s 399ms/step - loss: 1841.0426 - left_length_loss: 940.5914 - right_length_loss: 900.4512 - left_length_root_mean_squared_error: 30.2649 - right_length_root_mean_squared_error: 29.6060 - val_loss: 2033.9353 - val_left_length_loss: 1052.1867 - val_right_length_loss: 981.7485 - val_left_length_root_mean_squared_error: 31.8263 - val_right_length_root_mean_squared_error: 30.6016\n",
      "Epoch 128/200\n",
      "113/113 [==============================] - 45s 396ms/step - loss: 1903.2282 - left_length_loss: 937.1758 - right_length_loss: 966.0523 - left_length_root_mean_squared_error: 30.0418 - right_length_root_mean_squared_error: 30.5892 - val_loss: 2033.0205 - val_left_length_loss: 1048.5791 - val_right_length_loss: 984.4414 - val_left_length_root_mean_squared_error: 31.8308 - val_right_length_root_mean_squared_error: 30.6287\n",
      "Epoch 129/200\n",
      "113/113 [==============================] - 44s 390ms/step - loss: 1851.4195 - left_length_loss: 937.9480 - right_length_loss: 913.4715 - left_length_root_mean_squared_error: 30.1703 - right_length_root_mean_squared_error: 29.7875 - val_loss: 2002.7036 - val_left_length_loss: 1030.3602 - val_right_length_loss: 972.3434 - val_left_length_root_mean_squared_error: 31.4837 - val_right_length_root_mean_squared_error: 30.6093\n",
      "Epoch 130/200\n",
      "113/113 [==============================] - 44s 388ms/step - loss: 1836.1792 - left_length_loss: 931.3140 - right_length_loss: 904.8652 - left_length_root_mean_squared_error: 30.1366 - right_length_root_mean_squared_error: 29.6418 - val_loss: 2163.2697 - val_left_length_loss: 1057.2160 - val_right_length_loss: 1106.0537 - val_left_length_root_mean_squared_error: 31.9220 - val_right_length_root_mean_squared_error: 32.8446\n",
      "Epoch 131/200\n",
      "113/113 [==============================] - 44s 389ms/step - loss: 1935.2666 - left_length_loss: 948.8734 - right_length_loss: 986.3932 - left_length_root_mean_squared_error: 30.2541 - right_length_root_mean_squared_error: 30.8156 - val_loss: 2174.1445 - val_left_length_loss: 1093.4383 - val_right_length_loss: 1080.7062 - val_left_length_root_mean_squared_error: 32.2280 - val_right_length_root_mean_squared_error: 32.2810\n",
      "Epoch 132/200\n",
      "113/113 [==============================] - 45s 397ms/step - loss: 1844.5462 - left_length_loss: 919.8168 - right_length_loss: 924.7294 - left_length_root_mean_squared_error: 30.0414 - right_length_root_mean_squared_error: 30.1071 - val_loss: 2085.3641 - val_left_length_loss: 1060.4024 - val_right_length_loss: 1024.9617 - val_left_length_root_mean_squared_error: 31.9567 - val_right_length_root_mean_squared_error: 31.4707\n",
      "Epoch 133/200\n",
      "113/113 [==============================] - 45s 396ms/step - loss: 1860.5258 - left_length_loss: 940.1589 - right_length_loss: 920.3670 - left_length_root_mean_squared_error: 30.1384 - right_length_root_mean_squared_error: 29.8022 - val_loss: 2126.1347 - val_left_length_loss: 1060.0363 - val_right_length_loss: 1066.0984 - val_left_length_root_mean_squared_error: 31.8171 - val_right_length_root_mean_squared_error: 31.8525\n"
     ]
    },
    {
     "name": "stdout",
     "output_type": "stream",
     "text": [
      "Epoch 134/200\n",
      "113/113 [==============================] - 44s 387ms/step - loss: 1842.8077 - left_length_loss: 919.0800 - right_length_loss: 923.7277 - left_length_root_mean_squared_error: 29.7994 - right_length_root_mean_squared_error: 29.9185 - val_loss: 2029.0319 - val_left_length_loss: 1046.4584 - val_right_length_loss: 982.5735 - val_left_length_root_mean_squared_error: 31.4650 - val_right_length_root_mean_squared_error: 30.6104\n",
      "Epoch 135/200\n",
      "113/113 [==============================] - 44s 390ms/step - loss: 1903.4761 - left_length_loss: 942.5735 - right_length_loss: 960.9027 - left_length_root_mean_squared_error: 30.1261 - right_length_root_mean_squared_error: 30.4459 - val_loss: 2122.7361 - val_left_length_loss: 1061.1623 - val_right_length_loss: 1061.5738 - val_left_length_root_mean_squared_error: 31.7175 - val_right_length_root_mean_squared_error: 31.6975\n",
      "Epoch 136/200\n",
      "113/113 [==============================] - 44s 393ms/step - loss: 1871.2222 - left_length_loss: 944.7385 - right_length_loss: 926.4837 - left_length_root_mean_squared_error: 30.2947 - right_length_root_mean_squared_error: 30.0415 - val_loss: 2030.3117 - val_left_length_loss: 1020.2780 - val_right_length_loss: 1010.0337 - val_left_length_root_mean_squared_error: 31.3619 - val_right_length_root_mean_squared_error: 31.1039\n",
      "Epoch 137/200\n",
      "113/113 [==============================] - 42s 376ms/step - loss: 1846.7248 - left_length_loss: 927.2987 - right_length_loss: 919.4260 - left_length_root_mean_squared_error: 29.9480 - right_length_root_mean_squared_error: 29.8256 - val_loss: 2063.3010 - val_left_length_loss: 1030.6006 - val_right_length_loss: 1032.7004 - val_left_length_root_mean_squared_error: 31.3730 - val_right_length_root_mean_squared_error: 31.4286\n",
      "Epoch 138/200\n",
      "113/113 [==============================] - 43s 384ms/step - loss: 1833.4194 - left_length_loss: 917.2928 - right_length_loss: 916.1266 - left_length_root_mean_squared_error: 29.9057 - right_length_root_mean_squared_error: 29.8626 - val_loss: 2059.9038 - val_left_length_loss: 1040.2678 - val_right_length_loss: 1019.6360 - val_left_length_root_mean_squared_error: 31.5999 - val_right_length_root_mean_squared_error: 31.3352\n",
      "Epoch 139/200\n",
      "113/113 [==============================] - 43s 378ms/step - loss: 1851.8949 - left_length_loss: 933.1163 - right_length_loss: 918.7785 - left_length_root_mean_squared_error: 30.0545 - right_length_root_mean_squared_error: 29.8805 - val_loss: 2031.6795 - val_left_length_loss: 1035.5971 - val_right_length_loss: 996.0824 - val_left_length_root_mean_squared_error: 31.5760 - val_right_length_root_mean_squared_error: 30.9507\n",
      "Epoch 140/200\n",
      "113/113 [==============================] - 42s 376ms/step - loss: 1814.6157 - left_length_loss: 910.2672 - right_length_loss: 904.3484 - left_length_root_mean_squared_error: 29.5986 - right_length_root_mean_squared_error: 29.5527 - val_loss: 1982.2481 - val_left_length_loss: 1009.6710 - val_right_length_loss: 972.5771 - val_left_length_root_mean_squared_error: 31.0567 - val_right_length_root_mean_squared_error: 30.4894\n",
      "Epoch 141/200\n",
      "113/113 [==============================] - 44s 390ms/step - loss: 1826.3036 - left_length_loss: 932.2468 - right_length_loss: 894.0567 - left_length_root_mean_squared_error: 30.1228 - right_length_root_mean_squared_error: 29.4666 - val_loss: 2018.6940 - val_left_length_loss: 1017.3087 - val_right_length_loss: 1001.3854 - val_left_length_root_mean_squared_error: 31.2560 - val_right_length_root_mean_squared_error: 31.0261\n",
      "Epoch 142/200\n",
      "113/113 [==============================] - 44s 386ms/step - loss: 1834.2774 - left_length_loss: 931.3252 - right_length_loss: 902.9522 - left_length_root_mean_squared_error: 30.0762 - right_length_root_mean_squared_error: 29.6304 - val_loss: 2050.6355 - val_left_length_loss: 1051.7439 - val_right_length_loss: 998.8916 - val_left_length_root_mean_squared_error: 31.7114 - val_right_length_root_mean_squared_error: 31.0081\n",
      "Epoch 143/200\n",
      "113/113 [==============================] - 44s 388ms/step - loss: 1890.5527 - left_length_loss: 982.5774 - right_length_loss: 907.9753 - left_length_root_mean_squared_error: 30.9308 - right_length_root_mean_squared_error: 29.6781 - val_loss: 2228.0765 - val_left_length_loss: 1143.3073 - val_right_length_loss: 1084.7692 - val_left_length_root_mean_squared_error: 33.0044 - val_right_length_root_mean_squared_error: 32.0534\n",
      "Epoch 144/200\n",
      "113/113 [==============================] - 44s 391ms/step - loss: 1945.1996 - left_length_loss: 1028.0098 - right_length_loss: 917.1898 - left_length_root_mean_squared_error: 31.4037 - right_length_root_mean_squared_error: 29.7473 - val_loss: 2030.2023 - val_left_length_loss: 1046.8911 - val_right_length_loss: 983.3112 - val_left_length_root_mean_squared_error: 31.4990 - val_right_length_root_mean_squared_error: 30.6246\n",
      "Epoch 145/200\n",
      "113/113 [==============================] - 44s 387ms/step - loss: 1838.5951 - left_length_loss: 950.4489 - right_length_loss: 888.1462 - left_length_root_mean_squared_error: 30.2724 - right_length_root_mean_squared_error: 29.2698 - val_loss: 2013.3263 - val_left_length_loss: 1053.3622 - val_right_length_loss: 959.9641 - val_left_length_root_mean_squared_error: 31.8163 - val_right_length_root_mean_squared_error: 30.2400\n",
      "Epoch 146/200\n",
      "113/113 [==============================] - 44s 386ms/step - loss: 1813.1362 - left_length_loss: 915.2107 - right_length_loss: 897.9255 - left_length_root_mean_squared_error: 29.7456 - right_length_root_mean_squared_error: 29.4741 - val_loss: 2227.5515 - val_left_length_loss: 1231.7606 - val_right_length_loss: 995.7909 - val_left_length_root_mean_squared_error: 34.2617 - val_right_length_root_mean_squared_error: 30.7614\n",
      "Epoch 147/200\n",
      "113/113 [==============================] - 44s 385ms/step - loss: 1848.0624 - left_length_loss: 932.3605 - right_length_loss: 915.7019 - left_length_root_mean_squared_error: 29.8213 - right_length_root_mean_squared_error: 29.5854 - val_loss: 2002.7892 - val_left_length_loss: 1024.9452 - val_right_length_loss: 977.8440 - val_left_length_root_mean_squared_error: 31.2062 - val_right_length_root_mean_squared_error: 30.6170\n",
      "Epoch 148/200\n",
      "113/113 [==============================] - 44s 390ms/step - loss: 1814.8537 - left_length_loss: 912.7706 - right_length_loss: 902.0832 - left_length_root_mean_squared_error: 29.6090 - right_length_root_mean_squared_error: 29.4637 - val_loss: 2060.0481 - val_left_length_loss: 1023.3999 - val_right_length_loss: 1036.6481 - val_left_length_root_mean_squared_error: 31.3845 - val_right_length_root_mean_squared_error: 31.7978\n",
      "Epoch 149/200\n",
      "113/113 [==============================] - 43s 382ms/step - loss: 1805.7712 - left_length_loss: 909.1788 - right_length_loss: 896.5924 - left_length_root_mean_squared_error: 29.7229 - right_length_root_mean_squared_error: 29.5346 - val_loss: 1979.8206 - val_left_length_loss: 1016.2037 - val_right_length_loss: 963.6169 - val_left_length_root_mean_squared_error: 31.1291 - val_right_length_root_mean_squared_error: 30.3024\n",
      "Epoch 150/200\n",
      "113/113 [==============================] - 43s 380ms/step - loss: 1823.3674 - left_length_loss: 933.1447 - right_length_loss: 890.2228 - left_length_root_mean_squared_error: 30.1767 - right_length_root_mean_squared_error: 29.4627 - val_loss: 2029.1316 - val_left_length_loss: 1048.9389 - val_right_length_loss: 980.1927 - val_left_length_root_mean_squared_error: 31.6520 - val_right_length_root_mean_squared_error: 30.5377\n",
      "Epoch 151/200\n",
      "113/113 [==============================] - 43s 378ms/step - loss: 1875.7584 - left_length_loss: 939.3422 - right_length_loss: 936.4162 - left_length_root_mean_squared_error: 30.2373 - right_length_root_mean_squared_error: 30.2026 - val_loss: 2127.5322 - val_left_length_loss: 1064.9315 - val_right_length_loss: 1062.6006 - val_left_length_root_mean_squared_error: 32.1412 - val_right_length_root_mean_squared_error: 32.1389\n",
      "Epoch 152/200\n",
      "113/113 [==============================] - 44s 390ms/step - loss: 1878.8335 - left_length_loss: 937.2134 - right_length_loss: 941.6201 - left_length_root_mean_squared_error: 30.0884 - right_length_root_mean_squared_error: 30.1498 - val_loss: 2038.9508 - val_left_length_loss: 1047.1005 - val_right_length_loss: 991.8503 - val_left_length_root_mean_squared_error: 31.9116 - val_right_length_root_mean_squared_error: 30.9322\n"
     ]
    },
    {
     "name": "stdout",
     "output_type": "stream",
     "text": [
      "Epoch 153/200\n",
      "113/113 [==============================] - 43s 381ms/step - loss: 1831.0671 - left_length_loss: 921.0304 - right_length_loss: 910.0367 - left_length_root_mean_squared_error: 29.7579 - right_length_root_mean_squared_error: 29.6477 - val_loss: 2182.0341 - val_left_length_loss: 1082.3576 - val_right_length_loss: 1099.6765 - val_left_length_root_mean_squared_error: 32.5888 - val_right_length_root_mean_squared_error: 32.7658\n",
      "Epoch 154/200\n",
      "113/113 [==============================] - 44s 391ms/step - loss: 1832.0991 - left_length_loss: 923.7590 - right_length_loss: 908.3401 - left_length_root_mean_squared_error: 29.8055 - right_length_root_mean_squared_error: 29.5286 - val_loss: 2016.1774 - val_left_length_loss: 1017.6177 - val_right_length_loss: 998.5596 - val_left_length_root_mean_squared_error: 31.1431 - val_right_length_root_mean_squared_error: 30.8855\n",
      "Epoch 155/200\n",
      "113/113 [==============================] - 45s 394ms/step - loss: 1781.7177 - left_length_loss: 894.3206 - right_length_loss: 887.3971 - left_length_root_mean_squared_error: 29.4675 - right_length_root_mean_squared_error: 29.3921 - val_loss: 1983.3867 - val_left_length_loss: 1018.5705 - val_right_length_loss: 964.8162 - val_left_length_root_mean_squared_error: 31.3995 - val_right_length_root_mean_squared_error: 30.5423\n",
      "Epoch 156/200\n",
      "113/113 [==============================] - 43s 377ms/step - loss: 1827.1446 - left_length_loss: 919.6113 - right_length_loss: 907.5333 - left_length_root_mean_squared_error: 29.7713 - right_length_root_mean_squared_error: 29.5968 - val_loss: 2055.6270 - val_left_length_loss: 1052.8450 - val_right_length_loss: 1002.7821 - val_left_length_root_mean_squared_error: 31.7297 - val_right_length_root_mean_squared_error: 30.9682\n",
      "Epoch 157/200\n",
      "113/113 [==============================] - 43s 382ms/step - loss: 1824.5051 - left_length_loss: 932.7594 - right_length_loss: 891.7457 - left_length_root_mean_squared_error: 29.9615 - right_length_root_mean_squared_error: 29.3631 - val_loss: 1954.2516 - val_left_length_loss: 996.9266 - val_right_length_loss: 957.3251 - val_left_length_root_mean_squared_error: 30.8797 - val_right_length_root_mean_squared_error: 30.2376\n",
      "Epoch 158/200\n",
      "113/113 [==============================] - 43s 381ms/step - loss: 1874.0077 - left_length_loss: 959.5526 - right_length_loss: 914.4551 - left_length_root_mean_squared_error: 30.3683 - right_length_root_mean_squared_error: 29.6463 - val_loss: 2127.1851 - val_left_length_loss: 1138.6117 - val_right_length_loss: 988.5734 - val_left_length_root_mean_squared_error: 33.0395 - val_right_length_root_mean_squared_error: 30.7670\n",
      "Epoch 159/200\n",
      "113/113 [==============================] - 44s 393ms/step - loss: 2054.4751 - left_length_loss: 1025.2964 - right_length_loss: 1029.1787 - left_length_root_mean_squared_error: 31.0956 - right_length_root_mean_squared_error: 31.2965 - val_loss: 2061.6129 - val_left_length_loss: 1030.6677 - val_right_length_loss: 1030.9452 - val_left_length_root_mean_squared_error: 31.3501 - val_right_length_root_mean_squared_error: 31.5807\n",
      "Epoch 160/200\n",
      "113/113 [==============================] - 44s 392ms/step - loss: 371904.0807 - left_length_loss: 910.5053 - right_length_loss: 370993.5617 - left_length_root_mean_squared_error: 29.6446 - right_length_root_mean_squared_error: 214.8769 - val_loss: 20530.6067 - val_left_length_loss: 1178.8316 - val_right_length_loss: 19351.7748 - val_left_length_root_mean_squared_error: 33.3225 - val_right_length_root_mean_squared_error: 139.0332\n",
      "Epoch 161/200\n",
      "113/113 [==============================] - 43s 384ms/step - loss: 25983.9776 - left_length_loss: 947.5136 - right_length_loss: 25036.4644 - left_length_root_mean_squared_error: 30.3006 - right_length_root_mean_squared_error: 108.0417 - val_loss: 3476.2165 - val_left_length_loss: 2142.4731 - val_right_length_loss: 1333.7433 - val_left_length_root_mean_squared_error: 45.8557 - val_right_length_root_mean_squared_error: 36.3212\n",
      "Epoch 162/200\n",
      "113/113 [==============================] - 43s 379ms/step - loss: 2223.7253 - left_length_loss: 974.4331 - right_length_loss: 1249.2921 - left_length_root_mean_squared_error: 30.7204 - right_length_root_mean_squared_error: 34.8785 - val_loss: 2709.7419 - val_left_length_loss: 1022.6385 - val_right_length_loss: 1687.1035 - val_left_length_root_mean_squared_error: 31.1456 - val_right_length_root_mean_squared_error: 39.3778\n",
      "Epoch 163/200\n",
      "113/113 [==============================] - 44s 393ms/step - loss: 2073.7236 - left_length_loss: 900.4556 - right_length_loss: 1173.2680 - left_length_root_mean_squared_error: 29.6066 - right_length_root_mean_squared_error: 33.6669 - val_loss: 2236.8614 - val_left_length_loss: 1054.0267 - val_right_length_loss: 1182.8346 - val_left_length_root_mean_squared_error: 31.5857 - val_right_length_root_mean_squared_error: 33.5808\n",
      "Epoch 164/200\n",
      "113/113 [==============================] - 44s 388ms/step - loss: 1907.9730 - left_length_loss: 906.0652 - right_length_loss: 1001.9078 - left_length_root_mean_squared_error: 29.7505 - right_length_root_mean_squared_error: 31.3172 - val_loss: 2103.9172 - val_left_length_loss: 1006.9530 - val_right_length_loss: 1096.9642 - val_left_length_root_mean_squared_error: 30.9198 - val_right_length_root_mean_squared_error: 32.7051\n",
      "Epoch 165/200\n",
      "113/113 [==============================] - 44s 385ms/step - loss: 1849.6454 - left_length_loss: 895.6014 - right_length_loss: 954.0440 - left_length_root_mean_squared_error: 29.2895 - right_length_root_mean_squared_error: 30.2593 - val_loss: 2062.0713 - val_left_length_loss: 998.7608 - val_right_length_loss: 1063.3106 - val_left_length_root_mean_squared_error: 30.7819 - val_right_length_root_mean_squared_error: 32.0303\n",
      "Epoch 166/200\n",
      "113/113 [==============================] - 44s 389ms/step - loss: 1836.4998 - left_length_loss: 903.8294 - right_length_loss: 932.6705 - left_length_root_mean_squared_error: 29.4777 - right_length_root_mean_squared_error: 30.0365 - val_loss: 2133.9292 - val_left_length_loss: 1067.0824 - val_right_length_loss: 1066.8468 - val_left_length_root_mean_squared_error: 31.8063 - val_right_length_root_mean_squared_error: 31.9482\n",
      "Epoch 167/200\n",
      "113/113 [==============================] - 44s 386ms/step - loss: 1847.7895 - left_length_loss: 901.4405 - right_length_loss: 946.3490 - left_length_root_mean_squared_error: 29.5195 - right_length_root_mean_squared_error: 30.3192 - val_loss: 2276.8004 - val_left_length_loss: 1026.2057 - val_right_length_loss: 1250.5948 - val_left_length_root_mean_squared_error: 31.1592 - val_right_length_root_mean_squared_error: 34.3409\n",
      "Epoch 168/200\n",
      "113/113 [==============================] - 44s 390ms/step - loss: 1819.8093 - left_length_loss: 894.0191 - right_length_loss: 925.7902 - left_length_root_mean_squared_error: 29.4593 - right_length_root_mean_squared_error: 30.0566 - val_loss: 2422.0960 - val_left_length_loss: 1044.2937 - val_right_length_loss: 1377.8023 - val_left_length_root_mean_squared_error: 31.4488 - val_right_length_root_mean_squared_error: 36.2017\n",
      "Epoch 169/200\n",
      "113/113 [==============================] - 42s 372ms/step - loss: 1914.6520 - left_length_loss: 902.7084 - right_length_loss: 1011.9436 - left_length_root_mean_squared_error: 29.6245 - right_length_root_mean_squared_error: 31.3703 - val_loss: 2027.9397 - val_left_length_loss: 1004.5369 - val_right_length_loss: 1023.4028 - val_left_length_root_mean_squared_error: 30.9934 - val_right_length_root_mean_squared_error: 31.5151\n",
      "Epoch 170/200\n",
      "113/113 [==============================] - 43s 378ms/step - loss: 1818.8576 - left_length_loss: 911.3852 - right_length_loss: 907.4725 - left_length_root_mean_squared_error: 29.6869 - right_length_root_mean_squared_error: 29.6710 - val_loss: 2042.8396 - val_left_length_loss: 1038.7961 - val_right_length_loss: 1004.0435 - val_left_length_root_mean_squared_error: 31.4012 - val_right_length_root_mean_squared_error: 31.0357\n",
      "Epoch 171/200\n",
      "113/113 [==============================] - 43s 382ms/step - loss: 1794.5211 - left_length_loss: 887.2745 - right_length_loss: 907.2466 - left_length_root_mean_squared_error: 29.4464 - right_length_root_mean_squared_error: 29.7911 - val_loss: 2075.1198 - val_left_length_loss: 1054.3873 - val_right_length_loss: 1020.7324 - val_left_length_root_mean_squared_error: 31.6329 - val_right_length_root_mean_squared_error: 31.0459\n"
     ]
    },
    {
     "name": "stdout",
     "output_type": "stream",
     "text": [
      "Epoch 172/200\n",
      "113/113 [==============================] - 44s 387ms/step - loss: 1809.1651 - left_length_loss: 882.0099 - right_length_loss: 927.1551 - left_length_root_mean_squared_error: 29.1838 - right_length_root_mean_squared_error: 30.0030 - val_loss: 2038.6957 - val_left_length_loss: 984.4687 - val_right_length_loss: 1054.2270 - val_left_length_root_mean_squared_error: 30.6918 - val_right_length_root_mean_squared_error: 31.5828\n",
      "Epoch 173/200\n",
      "113/113 [==============================] - 44s 387ms/step - loss: 1825.2023 - left_length_loss: 933.1169 - right_length_loss: 892.0853 - left_length_root_mean_squared_error: 29.8001 - right_length_root_mean_squared_error: 29.2668 - val_loss: 2041.0857 - val_left_length_loss: 1056.3158 - val_right_length_loss: 984.7699 - val_left_length_root_mean_squared_error: 31.7543 - val_right_length_root_mean_squared_error: 30.6574\n",
      "Epoch 174/200\n",
      "113/113 [==============================] - 44s 392ms/step - loss: 1844.1509 - left_length_loss: 930.3749 - right_length_loss: 913.7760 - left_length_root_mean_squared_error: 29.9247 - right_length_root_mean_squared_error: 29.7534 - val_loss: 1997.7894 - val_left_length_loss: 1004.4744 - val_right_length_loss: 993.3150 - val_left_length_root_mean_squared_error: 30.9636 - val_right_length_root_mean_squared_error: 30.8942\n",
      "Epoch 175/200\n",
      "113/113 [==============================] - 43s 378ms/step - loss: 1792.3913 - left_length_loss: 887.9840 - right_length_loss: 904.4072 - left_length_root_mean_squared_error: 29.3993 - right_length_root_mean_squared_error: 29.7137 - val_loss: 2016.1651 - val_left_length_loss: 1023.5897 - val_right_length_loss: 992.5754 - val_left_length_root_mean_squared_error: 31.1735 - val_right_length_root_mean_squared_error: 30.7475\n",
      "Epoch 176/200\n",
      "113/113 [==============================] - 44s 387ms/step - loss: 1758.5902 - left_length_loss: 887.8209 - right_length_loss: 870.7694 - left_length_root_mean_squared_error: 29.2651 - right_length_root_mean_squared_error: 28.9711 - val_loss: 1985.8631 - val_left_length_loss: 988.3989 - val_right_length_loss: 997.4642 - val_left_length_root_mean_squared_error: 30.7213 - val_right_length_root_mean_squared_error: 30.6951\n",
      "Epoch 177/200\n",
      "113/113 [==============================] - 44s 388ms/step - loss: 1760.3895 - left_length_loss: 888.3209 - right_length_loss: 872.0686 - left_length_root_mean_squared_error: 29.2353 - right_length_root_mean_squared_error: 28.9970 - val_loss: 2047.0443 - val_left_length_loss: 1008.7763 - val_right_length_loss: 1038.2679 - val_left_length_root_mean_squared_error: 30.9445 - val_right_length_root_mean_squared_error: 31.2325\n",
      "Epoch 178/200\n",
      "113/113 [==============================] - 42s 374ms/step - loss: 1810.5097 - left_length_loss: 881.7995 - right_length_loss: 928.7101 - left_length_root_mean_squared_error: 29.2202 - right_length_root_mean_squared_error: 30.0581 - val_loss: 1954.5350 - val_left_length_loss: 990.8024 - val_right_length_loss: 963.7327 - val_left_length_root_mean_squared_error: 30.7746 - val_right_length_root_mean_squared_error: 30.2105\n",
      "Epoch 179/200\n",
      "113/113 [==============================] - 44s 391ms/step - loss: 1767.5289 - left_length_loss: 889.3234 - right_length_loss: 878.2054 - left_length_root_mean_squared_error: 29.3206 - right_length_root_mean_squared_error: 29.1867 - val_loss: 1998.1622 - val_left_length_loss: 991.9100 - val_right_length_loss: 1006.2522 - val_left_length_root_mean_squared_error: 30.9709 - val_right_length_root_mean_squared_error: 31.3159\n",
      "Epoch 180/200\n",
      "113/113 [==============================] - 44s 392ms/step - loss: 1768.1525 - left_length_loss: 881.8347 - right_length_loss: 886.3178 - left_length_root_mean_squared_error: 29.2368 - right_length_root_mean_squared_error: 29.3882 - val_loss: 1959.7551 - val_left_length_loss: 992.0571 - val_right_length_loss: 967.6980 - val_left_length_root_mean_squared_error: 30.8661 - val_right_length_root_mean_squared_error: 30.3902\n",
      "Epoch 181/200\n",
      "113/113 [==============================] - 43s 380ms/step - loss: 1751.5932 - left_length_loss: 879.7338 - right_length_loss: 871.8593 - left_length_root_mean_squared_error: 29.1590 - right_length_root_mean_squared_error: 29.0625 - val_loss: 1923.3197 - val_left_length_loss: 982.9838 - val_right_length_loss: 940.3359 - val_left_length_root_mean_squared_error: 30.6037 - val_right_length_root_mean_squared_error: 29.9808\n",
      "Epoch 182/200\n",
      "113/113 [==============================] - 44s 386ms/step - loss: 1755.1902 - left_length_loss: 867.3295 - right_length_loss: 887.8607 - left_length_root_mean_squared_error: 28.9322 - right_length_root_mean_squared_error: 29.3431 - val_loss: 1993.7312 - val_left_length_loss: 1011.6151 - val_right_length_loss: 982.1161 - val_left_length_root_mean_squared_error: 31.1252 - val_right_length_root_mean_squared_error: 30.7439\n",
      "Epoch 183/200\n",
      "113/113 [==============================] - 42s 373ms/step - loss: 1792.6064 - left_length_loss: 898.5029 - right_length_loss: 894.1035 - left_length_root_mean_squared_error: 29.2969 - right_length_root_mean_squared_error: 29.2685 - val_loss: 1984.7371 - val_left_length_loss: 1004.6711 - val_right_length_loss: 980.0660 - val_left_length_root_mean_squared_error: 30.9563 - val_right_length_root_mean_squared_error: 30.5961\n",
      "Epoch 184/200\n",
      "113/113 [==============================] - 44s 386ms/step - loss: 1758.6942 - left_length_loss: 874.8546 - right_length_loss: 883.8396 - left_length_root_mean_squared_error: 29.1602 - right_length_root_mean_squared_error: 29.3610 - val_loss: 1923.3745 - val_left_length_loss: 979.3035 - val_right_length_loss: 944.0710 - val_left_length_root_mean_squared_error: 30.6659 - val_right_length_root_mean_squared_error: 30.1400\n",
      "Epoch 185/200\n",
      "113/113 [==============================] - 44s 388ms/step - loss: 1760.5355 - left_length_loss: 869.9920 - right_length_loss: 890.5435 - left_length_root_mean_squared_error: 29.0514 - right_length_root_mean_squared_error: 29.4475 - val_loss: 2304.4535 - val_left_length_loss: 987.1014 - val_right_length_loss: 1317.3520 - val_left_length_root_mean_squared_error: 30.8974 - val_right_length_root_mean_squared_error: 35.6386\n",
      "Epoch 186/200\n",
      "113/113 [==============================] - 43s 381ms/step - loss: 1739.7654 - left_length_loss: 869.2932 - right_length_loss: 870.4721 - left_length_root_mean_squared_error: 28.9570 - right_length_root_mean_squared_error: 29.0427 - val_loss: 1918.4792 - val_left_length_loss: 979.8795 - val_right_length_loss: 938.5998 - val_left_length_root_mean_squared_error: 30.6977 - val_right_length_root_mean_squared_error: 29.9441\n",
      "Epoch 187/200\n",
      "113/113 [==============================] - 44s 385ms/step - loss: 1761.6984 - left_length_loss: 877.6457 - right_length_loss: 884.0527 - left_length_root_mean_squared_error: 29.1298 - right_length_root_mean_squared_error: 29.2721 - val_loss: 1974.6022 - val_left_length_loss: 954.5513 - val_right_length_loss: 1020.0510 - val_left_length_root_mean_squared_error: 30.1810 - val_right_length_root_mean_squared_error: 31.5548\n",
      "Epoch 188/200\n",
      "113/113 [==============================] - 44s 388ms/step - loss: 1823.5389 - left_length_loss: 906.5257 - right_length_loss: 917.0132 - left_length_root_mean_squared_error: 29.6403 - right_length_root_mean_squared_error: 29.9237 - val_loss: 2006.2351 - val_left_length_loss: 995.4567 - val_right_length_loss: 1010.7784 - val_left_length_root_mean_squared_error: 31.0179 - val_right_length_root_mean_squared_error: 31.2132\n",
      "Epoch 189/200\n",
      "113/113 [==============================] - 43s 383ms/step - loss: 1879.3034 - left_length_loss: 976.6876 - right_length_loss: 902.6158 - left_length_root_mean_squared_error: 30.6176 - right_length_root_mean_squared_error: 29.5611 - val_loss: 2202.6919 - val_left_length_loss: 1026.2419 - val_right_length_loss: 1176.4499 - val_left_length_root_mean_squared_error: 31.6128 - val_right_length_root_mean_squared_error: 34.1226\n",
      "Epoch 190/200\n",
      "113/113 [==============================] - 44s 386ms/step - loss: 1885.5328 - left_length_loss: 958.5909 - right_length_loss: 926.9420 - left_length_root_mean_squared_error: 30.5695 - right_length_root_mean_squared_error: 30.0072 - val_loss: 1918.1894 - val_left_length_loss: 985.6590 - val_right_length_loss: 932.5304 - val_left_length_root_mean_squared_error: 30.8860 - val_right_length_root_mean_squared_error: 29.8558\n"
     ]
    },
    {
     "name": "stdout",
     "output_type": "stream",
     "text": [
      "Epoch 191/200\n",
      "113/113 [==============================] - 43s 383ms/step - loss: 1876.1087 - left_length_loss: 986.1010 - right_length_loss: 890.0077 - left_length_root_mean_squared_error: 31.0053 - right_length_root_mean_squared_error: 29.4741 - val_loss: 2003.3512 - val_left_length_loss: 1032.8494 - val_right_length_loss: 970.5018 - val_left_length_root_mean_squared_error: 31.3861 - val_right_length_root_mean_squared_error: 30.6292\n",
      "Epoch 192/200\n",
      "113/113 [==============================] - 43s 382ms/step - loss: 1733.6503 - left_length_loss: 886.6725 - right_length_loss: 846.9779 - left_length_root_mean_squared_error: 29.4203 - right_length_root_mean_squared_error: 28.8106 - val_loss: 2013.6870 - val_left_length_loss: 1049.1028 - val_right_length_loss: 964.5841 - val_left_length_root_mean_squared_error: 31.6028 - val_right_length_root_mean_squared_error: 30.4010\n",
      "Epoch 193/200\n",
      "113/113 [==============================] - 44s 387ms/step - loss: 1750.2945 - left_length_loss: 884.3751 - right_length_loss: 865.9193 - left_length_root_mean_squared_error: 29.3106 - right_length_root_mean_squared_error: 29.0107 - val_loss: 1968.4436 - val_left_length_loss: 1002.8603 - val_right_length_loss: 965.5832 - val_left_length_root_mean_squared_error: 31.2002 - val_right_length_root_mean_squared_error: 30.6080\n",
      "Epoch 194/200\n",
      "113/113 [==============================] - 43s 383ms/step - loss: 1782.9331 - left_length_loss: 884.5678 - right_length_loss: 898.3653 - left_length_root_mean_squared_error: 29.3350 - right_length_root_mean_squared_error: 29.6521 - val_loss: 1945.3673 - val_left_length_loss: 1003.1656 - val_right_length_loss: 942.2017 - val_left_length_root_mean_squared_error: 30.8912 - val_right_length_root_mean_squared_error: 29.9550\n",
      "Epoch 195/200\n",
      "113/113 [==============================] - 43s 383ms/step - loss: 1836.7769 - left_length_loss: 865.8009 - right_length_loss: 970.9760 - left_length_root_mean_squared_error: 28.7885 - right_length_root_mean_squared_error: 30.7034 - val_loss: 1935.1000 - val_left_length_loss: 972.7806 - val_right_length_loss: 962.3193 - val_left_length_root_mean_squared_error: 30.4273 - val_right_length_root_mean_squared_error: 30.4776\n",
      "Epoch 196/200\n",
      "113/113 [==============================] - 44s 391ms/step - loss: 1750.0364 - left_length_loss: 858.6902 - right_length_loss: 891.3461 - left_length_root_mean_squared_error: 28.6389 - right_length_root_mean_squared_error: 29.2307 - val_loss: 2021.0602 - val_left_length_loss: 1010.7020 - val_right_length_loss: 1010.3582 - val_left_length_root_mean_squared_error: 31.0123 - val_right_length_root_mean_squared_error: 31.0775\n",
      "Epoch 197/200\n",
      "113/113 [==============================] - 43s 379ms/step - loss: 1735.2363 - left_length_loss: 882.9279 - right_length_loss: 852.3084 - left_length_root_mean_squared_error: 29.3034 - right_length_root_mean_squared_error: 28.8057 - val_loss: 2008.4270 - val_left_length_loss: 978.3076 - val_right_length_loss: 1030.1194 - val_left_length_root_mean_squared_error: 30.7235 - val_right_length_root_mean_squared_error: 31.3101\n",
      "Epoch 198/200\n",
      "113/113 [==============================] - 44s 390ms/step - loss: 1758.8218 - left_length_loss: 867.4859 - right_length_loss: 891.3359 - left_length_root_mean_squared_error: 28.8104 - right_length_root_mean_squared_error: 29.2463 - val_loss: 1945.6925 - val_left_length_loss: 981.7118 - val_right_length_loss: 963.9807 - val_left_length_root_mean_squared_error: 30.4913 - val_right_length_root_mean_squared_error: 30.2808\n",
      "Epoch 199/200\n",
      "113/113 [==============================] - 44s 387ms/step - loss: 1729.1567 - left_length_loss: 849.4722 - right_length_loss: 879.6845 - left_length_root_mean_squared_error: 28.6445 - right_length_root_mean_squared_error: 29.2343 - val_loss: 2137.7316 - val_left_length_loss: 960.6669 - val_right_length_loss: 1177.0647 - val_left_length_root_mean_squared_error: 30.3798 - val_right_length_root_mean_squared_error: 33.6811\n",
      "Epoch 200/200\n",
      "113/113 [==============================] - 43s 381ms/step - loss: 1728.7348 - left_length_loss: 855.1616 - right_length_loss: 873.5732 - left_length_root_mean_squared_error: 28.7353 - right_length_root_mean_squared_error: 29.1502 - val_loss: 2059.0312 - val_left_length_loss: 1016.0099 - val_right_length_loss: 1043.0212 - val_left_length_root_mean_squared_error: 31.0010 - val_right_length_root_mean_squared_error: 31.4638\n",
      "-----done--------\n"
     ]
    }
   ],
   "source": [
    "def root_mean_squared_error(y_true, y_pred):\n",
    "        return K.sqrt(K.mean(K.square(y_pred - y_true))) \n",
    "\n",
    "model.compile(loss={'left_length': 'mse', 'right_length': 'mse'}, optimizer='adam',\n",
    "              metrics={'left_length': root_mean_squared_error, 'right_length': root_mean_squared_error})\n",
    "\n",
    "# history = model.fit(X_train, y_train, batch_size = 50, validation_split = 0.2, epochs = 100, verbose = 0)\n",
    "\n",
    "model.fit([X_img_train, X_num_train], [yL_train, yR_train], batch_size=2, validation_split=0.1, epochs=200, verbose=1,callbacks=[tensorboard_cb])\n",
    "#model.fit([X_CNN1, X_CNN2], y)\n",
    "\n",
    "print('-----done--------')"
   ]
  },
  {
   "cell_type": "code",
   "execution_count": 83,
   "metadata": {
    "pycharm": {
     "is_executing": true
    }
   },
   "outputs": [
    {
     "name": "stdout",
     "output_type": "stream",
     "text": [
      "The tensorboard extension is already loaded. To reload it, use:\n",
      "  %reload_ext tensorboard\n"
     ]
    },
    {
     "data": {
      "text/plain": [
       "ERROR: Timed out waiting for TensorBoard to start. It may still be running as pid 6440."
      ]
     },
     "metadata": {},
     "output_type": "display_data"
    }
   ],
   "source": [
    "%load_ext tensorboard\n",
    "%tensorboard --logdir=./my_logs --port=6006"
   ]
  },
  {
   "cell_type": "code",
   "execution_count": 117,
   "metadata": {
    "pycharm": {
     "is_executing": true,
     "name": "#%%\n"
    }
   },
   "outputs": [],
   "source": [
    "# prototyping image generator that takes in 2 inputs\n",
    "# https://github.com/keras-team/keras/issues/3386\n",
    "\n",
    "def customDataAugGenerator(X_img,X_num,y_left, y_right, batch_size):\n",
    "    \n",
    "    while True:\n",
    "        \n",
    "        idx = np.random.permutation(X_img.shape[0])\n",
    "        \n",
    "        datagen = ImageDataGenerator(\n",
    "                featurewise_center=False,  # set input mean to 0 over the dataset\n",
    "                samplewise_center=False,  # set each sample mean to 0\n",
    "                featurewise_std_normalization=False,  # divide inputs by std of the dataset\n",
    "                samplewise_std_normalization=False,  # divide each input by its std\n",
    "                zca_whitening=False,  # apply ZCA whitening\n",
    "                rotation_range=5, #180,  # randomly rotate images in the range (degrees, 0 to 180)\n",
    "                width_shift_range=0.1, #0.1,  # randomly shift images horizontally (fraction of total width)\n",
    "                height_shift_range=0.1, #0.1,  # randomly shift images vertically (fraction of total height)\n",
    "                horizontal_flip=False,  # randomly flip images\n",
    "                vertical_flip=False\n",
    "        )\n",
    "        \n",
    "        batches = datagen.flow(X_img[idx], y_left[idx], batch_size=batch_size, shuffle=False)\n",
    "        idx0 = 0\n",
    "        for batch in batches:\n",
    "            idx1 = idx0 + batch[0].shape[0]\n",
    "            \n",
    "            yield [batch[0], X_num[idx[idx0:idx1]]],[batch[1],y_right[idx[idx0:idx1]]]\n",
    "            \n",
    "            idx0 = idx1\n",
    "            if idx1 >= X_img.shape[0]:\n",
    "                break\n"
   ]
  },
  {
   "cell_type": "code",
   "execution_count": 121,
   "metadata": {},
   "outputs": [
    {
     "name": "stdout",
     "output_type": "stream",
     "text": [
      "Epoch 1/200\n",
      "63/63 [==============================] - 41s 658ms/step - loss: 10275.1753 - left_length_loss: 2089.6643 - right_length_loss: 8185.5109 - left_length_root_mean_squared_error: 41.3063 - right_length_root_mean_squared_error: 64.3375\n",
      "Epoch 2/200\n",
      "63/63 [==============================] - 43s 684ms/step - loss: 2422.1371 - left_length_loss: 1259.4280 - right_length_loss: 1162.7091 - left_length_root_mean_squared_error: 34.3365 - right_length_root_mean_squared_error: 33.4310\n",
      "Epoch 3/200\n",
      "63/63 [==============================] - 52s 829ms/step - loss: 2625.3820 - left_length_loss: 967.7772 - right_length_loss: 1657.6048 - left_length_root_mean_squared_error: 30.7400 - right_length_root_mean_squared_error: 38.9652\n",
      "Epoch 4/200\n",
      "63/63 [==============================] - 54s 863ms/step - loss: 1954.7645 - left_length_loss: 998.0224 - right_length_loss: 956.7421 - left_length_root_mean_squared_error: 31.1491 - right_length_root_mean_squared_error: 30.5295\n",
      "Epoch 5/200\n",
      "63/63 [==============================] - 51s 810ms/step - loss: 1910.9645 - left_length_loss: 913.3110 - right_length_loss: 997.6535 - left_length_root_mean_squared_error: 29.7642 - right_length_root_mean_squared_error: 31.2089\n",
      "Epoch 6/200\n",
      "63/63 [==============================] - 55s 878ms/step - loss: 2318.4530 - left_length_loss: 928.1459 - right_length_loss: 1390.3071 - left_length_root_mean_squared_error: 29.9804 - right_length_root_mean_squared_error: 36.0908\n",
      "Epoch 7/200\n",
      "63/63 [==============================] - 58s 914ms/step - loss: 1908.7312 - left_length_loss: 910.6394 - right_length_loss: 998.0918 - left_length_root_mean_squared_error: 29.6859 - right_length_root_mean_squared_error: 31.0945\n",
      "Epoch 8/200\n",
      "63/63 [==============================] - 55s 867ms/step - loss: 1879.8247 - left_length_loss: 933.8001 - right_length_loss: 946.0246 - left_length_root_mean_squared_error: 30.1399 - right_length_root_mean_squared_error: 30.3273\n",
      "Epoch 9/200\n",
      "63/63 [==============================] - 54s 851ms/step - loss: 2144.0005 - left_length_loss: 1168.2202 - right_length_loss: 975.7803 - left_length_root_mean_squared_error: 32.8639 - right_length_root_mean_squared_error: 30.7723\n",
      "Epoch 10/200\n",
      "63/63 [==============================] - 52s 822ms/step - loss: 2549.3234 - left_length_loss: 1536.4154 - right_length_loss: 1012.9080 - left_length_root_mean_squared_error: 37.9089 - right_length_root_mean_squared_error: 31.4000\n",
      "Epoch 11/200\n",
      "63/63 [==============================] - 52s 826ms/step - loss: 1998.6652 - left_length_loss: 1044.0825 - right_length_loss: 954.5828 - left_length_root_mean_squared_error: 31.8412 - right_length_root_mean_squared_error: 30.4611\n",
      "Epoch 12/200\n",
      "63/63 [==============================] - 59s 929ms/step - loss: 1930.0191 - left_length_loss: 947.2212 - right_length_loss: 982.7979 - left_length_root_mean_squared_error: 30.2597 - right_length_root_mean_squared_error: 30.8223\n",
      "Epoch 13/200\n",
      "63/63 [==============================] - 114s 2s/step - loss: 1878.3730 - left_length_loss: 903.6022 - right_length_loss: 974.7708 - left_length_root_mean_squared_error: 29.5565 - right_length_root_mean_squared_error: 30.8011\n",
      "Epoch 14/200\n",
      "63/63 [==============================] - 57s 902ms/step - loss: 1835.8312 - left_length_loss: 898.3910 - right_length_loss: 937.4402 - left_length_root_mean_squared_error: 29.5273 - right_length_root_mean_squared_error: 30.1774\n",
      "Epoch 15/200\n"
     ]
    },
    {
     "ename": "MemoryError",
     "evalue": "Unable to allocate array with shape (126, 1792, 828, 3) and data type float32",
     "output_type": "error",
     "traceback": [
      "\u001b[1;31m---------------------------------------------------------------------------\u001b[0m",
      "\u001b[1;31mMemoryError\u001b[0m                               Traceback (most recent call last)",
      "\u001b[1;32m<ipython-input-121-dd030e2f51de>\u001b[0m in \u001b[0;36m<module>\u001b[1;34m()\u001b[0m\n\u001b[0;32m      6\u001b[0m \u001b[1;31m#model.fit(datagenerator, batch_size=2, validation_split=0.1, epochs=200, verbose=1,callbacks=[tensorboard_cb])\u001b[0m\u001b[1;33m\u001b[0m\u001b[1;33m\u001b[0m\u001b[0m\n\u001b[0;32m      7\u001b[0m \u001b[1;33m\u001b[0m\u001b[0m\n\u001b[1;32m----> 8\u001b[1;33m \u001b[0mmodel\u001b[0m\u001b[1;33m.\u001b[0m\u001b[0mfit_generator\u001b[0m\u001b[1;33m(\u001b[0m\u001b[0mdatagenerator\u001b[0m\u001b[1;33m,\u001b[0m \u001b[0mvalidation_steps\u001b[0m\u001b[1;33m=\u001b[0m\u001b[1;32mTrue\u001b[0m\u001b[1;33m,\u001b[0m\u001b[0msteps_per_epoch\u001b[0m\u001b[1;33m=\u001b[0m\u001b[0mlen\u001b[0m\u001b[1;33m(\u001b[0m\u001b[0mX_img_train\u001b[0m\u001b[1;33m)\u001b[0m\u001b[1;33m/\u001b[0m\u001b[1;36m2\u001b[0m\u001b[1;33m,\u001b[0m\u001b[0mepochs\u001b[0m\u001b[1;33m=\u001b[0m\u001b[1;36m200\u001b[0m\u001b[1;33m,\u001b[0m \u001b[0mverbose\u001b[0m\u001b[1;33m=\u001b[0m\u001b[1;36m1\u001b[0m\u001b[1;33m,\u001b[0m\u001b[0mcallbacks\u001b[0m\u001b[1;33m=\u001b[0m\u001b[1;33m[\u001b[0m\u001b[0mtensorboard_cb\u001b[0m\u001b[1;33m]\u001b[0m\u001b[1;33m)\u001b[0m\u001b[1;33m\u001b[0m\u001b[0m\n\u001b[0m",
      "\u001b[1;32m~\\AppData\\Roaming\\Python\\Python35\\site-packages\\tensorflow\\python\\keras\\engine\\training.py\u001b[0m in \u001b[0;36mfit_generator\u001b[1;34m(self, generator, steps_per_epoch, epochs, verbose, callbacks, validation_data, validation_steps, class_weight, max_queue_size, workers, use_multiprocessing, shuffle, initial_epoch)\u001b[0m\n",
      "\u001b[1;32m~\\AppData\\Roaming\\Python\\Python35\\site-packages\\tensorflow\\python\\keras\\engine\\training_generator.py\u001b[0m in \u001b[0;36mfit_generator\u001b[1;34m(model, generator, steps_per_epoch, epochs, verbose, callbacks, validation_data, validation_steps, class_weight, max_queue_size, workers, use_multiprocessing, shuffle, initial_epoch)\u001b[0m\n\u001b[0;32m    140\u001b[0m       \u001b[0mdata\u001b[0m\u001b[1;33m,\u001b[0m\u001b[1;33m\u001b[0m\u001b[0m\n\u001b[0;32m    141\u001b[0m       \u001b[0msteps_per_epoch\u001b[0m\u001b[1;33m=\u001b[0m\u001b[0msteps_per_epoch\u001b[0m\u001b[1;33m,\u001b[0m\u001b[1;33m\u001b[0m\u001b[0m\n\u001b[1;32m--> 142\u001b[1;33m       \u001b[0mbatch_size\u001b[0m\u001b[1;33m=\u001b[0m\u001b[0mbatch_size\u001b[0m\u001b[1;33m,\u001b[0m\u001b[1;33m\u001b[0m\u001b[0m\n\u001b[0m\u001b[0;32m    143\u001b[0m       \u001b[0mepochs\u001b[0m\u001b[1;33m=\u001b[0m\u001b[0mepochs\u001b[0m \u001b[1;33m-\u001b[0m \u001b[0minitial_epoch\u001b[0m\u001b[1;33m,\u001b[0m\u001b[1;33m\u001b[0m\u001b[0m\n\u001b[0;32m    144\u001b[0m       shuffle=shuffle)\n",
      "\u001b[1;32m~\\AppData\\Roaming\\Python\\Python35\\site-packages\\tensorflow\\python\\keras\\utils\\data_utils.py\u001b[0m in \u001b[0;36mget\u001b[1;34m(self)\u001b[0m\n\u001b[0;32m    822\u001b[0m           initargs=(seqs, None, get_worker_id_queue()))\n\u001b[0;32m    823\u001b[0m       \u001b[0m_DATA_POOLS\u001b[0m\u001b[1;33m.\u001b[0m\u001b[0madd\u001b[0m\u001b[1;33m(\u001b[0m\u001b[0mpool\u001b[0m\u001b[1;33m)\u001b[0m\u001b[1;33m\u001b[0m\u001b[0m\n\u001b[1;32m--> 824\u001b[1;33m       \u001b[1;32mreturn\u001b[0m \u001b[0mpool\u001b[0m\u001b[1;33m\u001b[0m\u001b[0m\n\u001b[0m\u001b[0;32m    825\u001b[0m \u001b[1;33m\u001b[0m\u001b[0m\n\u001b[0;32m    826\u001b[0m     \u001b[1;32mreturn\u001b[0m \u001b[0mpool_fn\u001b[0m\u001b[1;33m\u001b[0m\u001b[0m\n",
      "\u001b[1;32m~\\AppData\\Roaming\\Python\\Python35\\site-packages\\six.py\u001b[0m in \u001b[0;36mreraise\u001b[1;34m(tp, value, tb)\u001b[0m\n",
      "\u001b[1;32m~\\AppData\\Roaming\\Python\\Python35\\site-packages\\tensorflow\\python\\keras\\utils\\data_utils.py\u001b[0m in \u001b[0;36m_data_generator_task\u001b[1;34m(self)\u001b[0m\n\u001b[0;32m    687\u001b[0m   def __init__(self, sequence,\n\u001b[0;32m    688\u001b[0m                use_multiprocessing=False):\n\u001b[1;32m--> 689\u001b[1;33m     \u001b[0mself\u001b[0m\u001b[1;33m.\u001b[0m\u001b[0msequence\u001b[0m \u001b[1;33m=\u001b[0m \u001b[0msequence\u001b[0m\u001b[1;33m\u001b[0m\u001b[0m\n\u001b[0m\u001b[0;32m    690\u001b[0m     \u001b[0mself\u001b[0m\u001b[1;33m.\u001b[0m\u001b[0muse_multiprocessing\u001b[0m \u001b[1;33m=\u001b[0m \u001b[0muse_multiprocessing\u001b[0m\u001b[1;33m\u001b[0m\u001b[0m\n\u001b[0;32m    691\u001b[0m \u001b[1;33m\u001b[0m\u001b[0m\n",
      "\u001b[1;32m<ipython-input-117-ba1810d74a9f>\u001b[0m in \u001b[0;36mcustomDataAugGenerator\u001b[1;34m(X_img, X_num, y_left, y_right, batch_size)\u001b[0m\n\u001b[0;32m     21\u001b[0m         )\n\u001b[0;32m     22\u001b[0m \u001b[1;33m\u001b[0m\u001b[0m\n\u001b[1;32m---> 23\u001b[1;33m         \u001b[0mbatches\u001b[0m \u001b[1;33m=\u001b[0m \u001b[0mdatagen\u001b[0m\u001b[1;33m.\u001b[0m\u001b[0mflow\u001b[0m\u001b[1;33m(\u001b[0m\u001b[0mX_img\u001b[0m\u001b[1;33m[\u001b[0m\u001b[0midx\u001b[0m\u001b[1;33m]\u001b[0m\u001b[1;33m,\u001b[0m \u001b[0my_left\u001b[0m\u001b[1;33m[\u001b[0m\u001b[0midx\u001b[0m\u001b[1;33m]\u001b[0m\u001b[1;33m,\u001b[0m \u001b[0mbatch_size\u001b[0m\u001b[1;33m=\u001b[0m\u001b[0mbatch_size\u001b[0m\u001b[1;33m,\u001b[0m \u001b[0mshuffle\u001b[0m\u001b[1;33m=\u001b[0m\u001b[1;32mFalse\u001b[0m\u001b[1;33m)\u001b[0m\u001b[1;33m\u001b[0m\u001b[0m\n\u001b[0m\u001b[0;32m     24\u001b[0m         \u001b[0midx0\u001b[0m \u001b[1;33m=\u001b[0m \u001b[1;36m0\u001b[0m\u001b[1;33m\u001b[0m\u001b[0m\n\u001b[0;32m     25\u001b[0m         \u001b[1;32mfor\u001b[0m \u001b[0mbatch\u001b[0m \u001b[1;32min\u001b[0m \u001b[0mbatches\u001b[0m\u001b[1;33m:\u001b[0m\u001b[1;33m\u001b[0m\u001b[0m\n",
      "\u001b[1;32m~\\AppData\\Roaming\\Python\\Python35\\site-packages\\keras_preprocessing\\image.py\u001b[0m in \u001b[0;36mflow\u001b[1;34m(self, x, y, batch_size, shuffle, sample_weight, seed, save_to_dir, save_prefix, save_format, subset)\u001b[0m\n",
      "\u001b[1;32m~\\AppData\\Roaming\\Python\\Python35\\site-packages\\keras_preprocessing\\image.py\u001b[0m in \u001b[0;36m__init__\u001b[1;34m(self, x, y, image_data_generator, batch_size, shuffle, sample_weight, seed, data_format, save_to_dir, save_prefix, save_format, subset, dtype)\u001b[0m\n",
      "\u001b[1;32m~\\Miniconda3\\envs\\tfpls\\lib\\site-packages\\numpy\\core\\_asarray.py\u001b[0m in \u001b[0;36masarray\u001b[1;34m(a, dtype, order)\u001b[0m\n\u001b[0;32m     83\u001b[0m \u001b[1;33m\u001b[0m\u001b[0m\n\u001b[0;32m     84\u001b[0m     \"\"\"\n\u001b[1;32m---> 85\u001b[1;33m     \u001b[1;32mreturn\u001b[0m \u001b[0marray\u001b[0m\u001b[1;33m(\u001b[0m\u001b[0ma\u001b[0m\u001b[1;33m,\u001b[0m \u001b[0mdtype\u001b[0m\u001b[1;33m,\u001b[0m \u001b[0mcopy\u001b[0m\u001b[1;33m=\u001b[0m\u001b[1;32mFalse\u001b[0m\u001b[1;33m,\u001b[0m \u001b[0morder\u001b[0m\u001b[1;33m=\u001b[0m\u001b[0morder\u001b[0m\u001b[1;33m)\u001b[0m\u001b[1;33m\u001b[0m\u001b[0m\n\u001b[0m\u001b[0;32m     86\u001b[0m \u001b[1;33m\u001b[0m\u001b[0m\n\u001b[0;32m     87\u001b[0m \u001b[1;33m\u001b[0m\u001b[0m\n",
      "\u001b[1;31mMemoryError\u001b[0m: Unable to allocate array with shape (126, 1792, 828, 3) and data type float32"
     ]
    }
   ],
   "source": [
    "datagenerator = customDataAugGenerator(X_img_train,X_num_train,yL_train,yR_train,2)\n",
    "\n",
    "model.compile(loss={'left_length': 'mse', 'right_length': 'mse'}, optimizer='adam',\n",
    "              metrics={'left_length': root_mean_squared_error, 'right_length': root_mean_squared_error})\n",
    "\n",
    "#model.fit(datagenerator, batch_size=2, validation_split=0.1, epochs=200, verbose=1,callbacks=[tensorboard_cb])\n",
    "\n",
    "model.fit_generator(datagenerator, validation_steps=True,steps_per_epoch=len(X_img_train)/2,epochs=200, verbose=1,callbacks=[tensorboard_cb])\n"
   ]
  },
  {
   "cell_type": "code",
   "execution_count": null,
   "metadata": {},
   "outputs": [],
   "source": []
  }
 ],
 "metadata": {
  "kernelspec": {
   "display_name": "Python 3",
   "language": "python",
   "name": "python3"
  },
  "language_info": {
   "codemirror_mode": {
    "name": "ipython",
    "version": 3
   },
   "file_extension": ".py",
   "mimetype": "text/x-python",
   "name": "python",
   "nbconvert_exporter": "python",
   "pygments_lexer": "ipython3",
   "version": "3.5.6"
  }
 },
 "nbformat": 4,
 "nbformat_minor": 2
}
